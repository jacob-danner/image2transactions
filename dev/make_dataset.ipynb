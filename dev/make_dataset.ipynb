{
 "cells": [
  {
   "cell_type": "markdown",
   "metadata": {},
   "source": [
    "Collected by passing the ledger files to gpt 4o with the prompt\n",
    "\n",
    "```\n",
    "\"\"\"\n",
    "For each transaction in my data where the transaction goes to Assets:Discover:Spent, extract the transaction's information in the following format:\n",
    "\n",
    "{\n",
    "    \"MCDONALD’S\": {\"day\": \"07\", \"amount\": \"6.51\", \"from\": \"Assets:Discover:Main:Wants:Other\"},\n",
    "    ...\n",
    "}\n",
    "\"\"\"\n",
    "```"
   ]
  },
  {
   "cell_type": "code",
   "execution_count": 4,
   "metadata": {},
   "outputs": [],
   "source": [
    "june = {\n",
    "    \"MCDONALD'S\": {\"day\": \"07\", \"amount\": \"6.51\", \"from\": \"Assets:Discover:Main:Wants:Other\"},\n",
    "    \"MAD MAX TICKETS\": {\"day\": \"07\", \"amount\": \"28.46\", \"from\": \"Assets:Discover:Main:Wants:Other\"},\n",
    "    \"SQ BERNARDOS BURRITOS\": {\"day\": \"08\", \"amount\": \"11.22\", \"from\": \"Assets:Discover:Main:Wants:Other\"},\n",
    "    \"SPOTIFY\": {\"day\": \"09\", \"amount\": \"11.76\", \"from\": \"Assets:Discover:Main:Wants:Monthly\"},\n",
    "    \"WALMART STORE\": {\"day\": \"18\", \"amount\": \"63.39\", \"from\": \"Assets:Discover:Main:Needs:Groceries\"},\n",
    "    \"CASEYS\": {\"day\": \"12\", \"amount\": \"38.72\", \"from\": \"Assets:Discover:Main:Needs:Gas\"},\n",
    "    \"PANCHEROS\": {\"day\": \"13\", \"amount\": \"11.56\", \"from\": \"Assets:Discover:Main:Wants:Other\"},\n",
    "    \"TST DES MOINES BEER\": {\"day\": \"14\", \"amount\": \"40.26\", \"from\": \"Assets:Discover:Main:Wants:Other\"},\n",
    "    \"QUANTUM FIBER\": {\"day\": \"15\", \"amount\": \"85.00\", \"from\": \"Assets:Discover:Main:Needs:Monthly\"},\n",
    "    \"TST CHOWRASTHA INDIAN\": {\"day\": \"16\", \"amount\": \"41.20\", \"from\": \"Assets:Discover:Main:Wants:Other\"},\n",
    "    \"JIMMY JOHNS\": {\"day\": \"16\", \"amount\": \"22.18\", \"from\": \"Assets:Discover:Main:Wants:Other\"},\n",
    "    \"AMAZON.COM CEREAL FOR DAD\": {\"day\": \"17\", \"amount\": \"12.12\", \"from\": \"Assets:Discover:Main:Wants:Other\"},\n",
    "    \"HABENEROS MEXICAN\": {\"day\": \"21\", \"amount\": \"40.00\", \"from\": \"Assets:Discover:Main:Wants:Other\"},\n",
    "    \"AMAZON HBO\": {\"day\": \"22\", \"amount\": \"10.69\", \"from\": \"Assets:Discover:Main:Needs:Groceries\"}\n",
    "}\n",
    "\n",
    "may = {\n",
    "    \"MIYABI 9\": {\"day\": \"04\", \"amount\": \"70\", \"from\": \"Assets:Discover:Main:Wants:Other\"},\n",
    "    \"DSM PARKING\": {\"day\": \"04\", \"amount\": \"1.25\", \"from\": \"Assets:Discover:Main:Wants:Other\"},\n",
    "    \"CHATGPT\": {\"day\": \"04\", \"amount\": \"20\", \"from\": \"Assets:Discover:Main:Wants:Monthly\"},\n",
    "    \"AMAZON PRIME\": {\"day\": \"04\", \"amount\": \"16.04\", \"from\": \"Assets:Discover:Main:Needs:Monthly\"},\n",
    "    \"QDOBA\": {\"day\": \"06\", \"amount\": \"22.04\", \"from\": \"Assets:Discover:Main:Wants:Other\"},\n",
    "    \"WALMART\": {\"day\": \"07\", \"amount\": \"66.96\", \"from\": \"Assets:Discover:Main:Needs:Groceries\"},\n",
    "    \"CULVERS\": {\"day\": \"07\", \"amount\": \"13.95\", \"from\": \"Assets:Discover:Main:Wants:Other\"},\n",
    "    \"MAD MEATBALL\": {\"day\": \"09\", \"amount\": \"16\", \"from\": \"Assets:Discover:Main:Wants:Other\"},\n",
    "    \"SPOTIFY\": {\"day\": \"09\", \"amount\": \"11.76\", \"from\": \"Assets:Discover:Main:Wants:Monthly\"},\n",
    "    \"LUA THC DRINKS\": {\"day\": \"10\", \"amount\": \"28.87\", \"from\": \"Assets:Discover:Main:Wants:Other\"},\n",
    "    \"JIMMY JOHNS\": {\"day\": \"10\", \"amount\": \"22.18\", \"from\": \"Assets:Discover:Main:Wants:Other\"},\n",
    "    \"ADIDAS SHOES\": {\"day\": \"11\", \"amount\": \"115.33\", \"from\": \"Assets:Discover:FutureWants\"},\n",
    "    \"AMAZON EMILY GRAD GIFT\": {\"day\": \"12\", \"amount\": \"109.50\", \"from\": \"Assets:Discover:FutureWants\"},\n",
    "    \"DOMINOS\": {\"day\": \"12\", \"amount\": \"17.86\", \"from\": \"Assets:Discover:Main:Wants:Other\"},\n",
    "    \"WALMART GROCERIES\": {\"day\": \"14\", \"amount\": \"49.02\", \"from\": \"Assets:Discover:Main:Needs:Groceries\"},\n",
    "    \"TARGET EMILY GRAD GIFT FILM\": {\"day\": \"14\", \"amount\": \"13.90\", \"from\": \"Assets:Discover:FutureWants\"},\n",
    "    \"INTERNET BILL\": {\"day\": \"15\", \"amount\": \"85\", \"from\": \"Assets:Discover:Main:Needs:Monthly\"},\n",
    "    \"AMAZON EMILY GRAD GIFT FILM\": {\"day\": \"15\", \"amount\": \"29.92\", \"from\": \"Assets:Discover:FutureWants\"},\n",
    "    \"DESPENSARY\": {\"day\": \"17\", \"amount\": \"21.40\", \"from\": \"Assets:Discover:Main:Wants:Other\"},\n",
    "    \"PANCHEROS\": {\"day\": \"17\", \"amount\": \"23.11\", \"from\": \"Assets:Discover:Main:Wants:Other\"},\n",
    "    \"BP DRINKS\": {\"day\": \"19\", \"amount\": \"6.07\", \"from\": \"Assets:Discover:Main:Wants:Other\"},\n",
    "    \"WALMART GROCERIES\": {\"day\": \"21\", \"amount\": \"37.86\", \"from\": \"Assets:Discover:Main:Needs:Groceries\"},\n",
    "    \"GAS FROM SAMS\": {\"day\": \"21\", \"amount\": \"38.04\", \"from\": \"Assets:Discover:Main:Needs:Gas\"},\n",
    "    \"SAMS GROCERIES\": {\"day\": \"21\", \"amount\": \"84.57\", \"from\": \"Assets:Discover:Main:Needs:Groceries\"},\n",
    "    \"PALMERS LUNCH\": {\"day\": \"21\", \"amount\": \"21.06\", \"from\": \"Assets:Discover:Main:Wants:Other\"},\n",
    "    \"AMAZON PRIME HBO MAX\": {\"day\": \"22\", \"amount\": \"10.69\", \"from\": \"Assets:Discover:Main:Wants:Monthly\"},\n",
    "    \"CHIPOTLE\": {\"day\": \"27\", \"amount\": \"24.98\", \"from\": \"Assets:Discover:Main:Wants:Other\"},\n",
    "    \"OBSIDIAN\": {\"day\": \"27\", \"amount\": \"10\", \"from\": \"Assets:Discover:Main:Wants:Monthly\"},\n",
    "    \"BEER GARDEN\": {\"day\": \"31\", \"amount\": \"39.04\", \"from\": \"Assets:Discover:Main:Wants:Other\"},\n",
    "    \"DOMINOS\": {\"day\": \"31\", \"amount\": \"26.55\", \"from\": \"Assets:Discover:Main:Wants:Other\"},\n",
    "    \"WALMART ALLERGY MEDS\": {\"day\": \"01\", \"amount\": \"48.26\", \"from\": \"Assets:Discover:Main:Needs:Groceries\"},\n",
    "    \"GOOGLE GSUITE\": {\"day\": \"01\", \"amount\": \"12.84\", \"from\": \"Assets:Discover:Main:Wants:Monthly\"},\n",
    "    \"AWS BILL\": {\"day\": \"02\", \"amount\": \"2.89\", \"from\": \"Assets:Discover:Main:Wants:Monthly\"},\n",
    "    \"INDYCAR TICKETS\": {\"day\": \"02\", \"amount\": \"308\", \"from\": \"Assets:Discover:FutureWants\"},\n",
    "    \"AMAZON HOUSE UTILITIES\": {\"day\": \"02\", \"amount\": \"76.01\", \"from\": \"Assets:Discover:Furniture\"},\n",
    "    \"AMAZON PRIME\": {\"day\": \"04\", \"amount\": \"16.04\", \"from\": \"Assets:Discover:Main:Needs:Monthly\"},\n",
    "    \"CHICK FIL A\": {\"day\": \"04\", \"amount\": \"11.97\", \"from\": \"Assets:Discover:Main:Wants:Other\"},\n",
    "    \"CHATGPT SUBSCRIPTION\": {\"day\": \"04\", \"amount\": \"20\", \"from\": \"Assets:Discover:Main:Wants:Monthly\"},\n",
    "    \"WALMART GROCERIES\": {\"day\": \"04\", \"amount\": \"17.95\", \"from\": \"Assets:Discover:Main:Needs:Groceries\"}\n",
    "}"
   ]
  },
  {
   "cell_type": "code",
   "execution_count": 61,
   "metadata": {},
   "outputs": [],
   "source": [
    "from opensearchpy import OpenSearch\n",
    "import uuid"
   ]
  },
  {
   "cell_type": "code",
   "execution_count": 163,
   "metadata": {},
   "outputs": [],
   "source": [
    "def init_client() -> OpenSearch:\n",
    "    host = 'localhost'\n",
    "    port = 9200\n",
    "    auth = ('admin', 'Image2Transaction$')\n",
    "\n",
    "    client = OpenSearch(\n",
    "        hosts=[{'host': host, 'port': port}],\n",
    "        http_auth=auth,\n",
    "        use_ssl=True,\n",
    "        verify_certs=False,\n",
    "    )\n",
    "\n",
    "    return client\n",
    "\n",
    "\n",
    "def add_index(client, index_name: str) -> None:\n",
    "    client.indices.create(\n",
    "        index_name, \n",
    "        body={\n",
    "            'settings': {\n",
    "                'index': {\n",
    "                    'number_of_shards': 1\n",
    "                }\n",
    "            },\n",
    "            'mappings': {\n",
    "                'properties': {\n",
    "                    'vendor': {'type': 'text'},\n",
    "                    'day': {'type': 'text'},\n",
    "                    'amount': {'type': 'float'},\n",
    "                    'from': {'type': 'text'},\n",
    "                }\n",
    "            }\n",
    "        }\n",
    "    )\n",
    "\n",
    "\n",
    "DataDict = dict[str, dict[str, str]]\n",
    "def flatten_data(data: DataDict) -> dict[str, str]:\n",
    "    flattened = [\n",
    "        {\n",
    "            'vendor': t_name,\n",
    "            **t_values\n",
    "        }\n",
    "        for t_name, t_values in data.items()\n",
    "    ]\n",
    "\n",
    "    return flattened\n",
    "\n",
    "\n",
    "def add_documents(client, index_name: str, all_data: list[DataDict]) -> None:\n",
    "    merged_data = {k: v for d in all_data for k, v in d.items()}\n",
    "    documents = flatten_data(merged_data)\n",
    "\n",
    "    for document in documents:\n",
    "        client.index(\n",
    "            index=index_name,\n",
    "            body=document,\n",
    "            id=str(uuid.uuid4()),\n",
    "            refresh=True\n",
    "        )"
   ]
  },
  {
   "cell_type": "code",
   "execution_count": 164,
   "metadata": {},
   "outputs": [],
   "source": [
    "client = init_client()\n",
    "\n",
    "index_name = 'transactions'\n",
    "add_index(client, index_name)\n",
    "\n",
    "add_documents(client, index_name, [may, june])"
   ]
  },
  {
   "cell_type": "code",
   "execution_count": 162,
   "metadata": {},
   "outputs": [
    {
     "data": {
      "text/plain": [
       "{'acknowledged': True}"
      ]
     },
     "execution_count": 162,
     "metadata": {},
     "output_type": "execute_result"
    }
   ],
   "source": [
    "client.indices.delete(index_name)"
   ]
  },
  {
   "cell_type": "code",
   "execution_count": 171,
   "metadata": {},
   "outputs": [
    {
     "data": {
      "text/plain": [
       "{'took': 13,\n",
       " 'timed_out': False,\n",
       " '_shards': {'total': 1, 'successful': 1, 'skipped': 0, 'failed': 0},\n",
       " 'hits': {'total': {'value': 4, 'relation': 'eq'},\n",
       "  'max_score': 1.0,\n",
       "  'hits': [{'_index': 'transactions',\n",
       "    '_id': '94b34dfa-0b25-4a82-a01a-3ead5342ac9b',\n",
       "    '_score': 1.0,\n",
       "    '_source': {'vendor': 'WALMART',\n",
       "     'day': '07',\n",
       "     'amount': '66.96',\n",
       "     'from': 'Assets:Discover:Main:Needs:Groceries'}},\n",
       "   {'_index': 'transactions',\n",
       "    '_id': '921d9ee4-82af-4972-981e-f5a1a086f858',\n",
       "    '_score': 1.0,\n",
       "    '_source': {'vendor': 'WALMART ALLERGY MEDS',\n",
       "     'day': '01',\n",
       "     'amount': '48.26',\n",
       "     'from': 'Assets:Discover:Main:Needs:Groceries'}},\n",
       "   {'_index': 'transactions',\n",
       "    '_id': '70905355-6f3e-4299-84b7-e5580fb2eb62',\n",
       "    '_score': 1.0,\n",
       "    '_source': {'vendor': 'WALMART GROCERIES',\n",
       "     'day': '04',\n",
       "     'amount': '17.95',\n",
       "     'from': 'Assets:Discover:Main:Needs:Groceries'}},\n",
       "   {'_index': 'transactions',\n",
       "    '_id': '7fc65fc1-f3de-4b5c-9069-19232d94bfac',\n",
       "    '_score': 1.0,\n",
       "    '_source': {'vendor': 'WALMART STORE',\n",
       "     'day': '18',\n",
       "     'amount': '63.39',\n",
       "     'from': 'Assets:Discover:Main:Needs:Groceries'}}]}}"
      ]
     },
     "execution_count": 171,
     "metadata": {},
     "output_type": "execute_result"
    }
   ],
   "source": [
    "q = '*walmart*'\n",
    "\n",
    "query = {\n",
    "  'size': 10,\n",
    "  'query': {\n",
    "    'wildcard': {\n",
    "        \"vendor\": {\n",
    "            'value': q,\n",
    "            'case_insensitive': True,\n",
    "        }\n",
    "    },\n",
    "  }\n",
    "}\n",
    "\n",
    "response = client.search(\n",
    "    body = query,\n",
    "    index = index_name\n",
    ")\n",
    "\n",
    "response"
   ]
  },
  {
   "cell_type": "code",
   "execution_count": 166,
   "metadata": {},
   "outputs": [
    {
     "data": {
      "text/plain": [
       "{'transactions': {'mappings': {'properties': {'amount': {'type': 'float'},\n",
       "    'day': {'type': 'text'},\n",
       "    'from': {'type': 'text'},\n",
       "    'vendor': {'type': 'text'}}}}}"
      ]
     },
     "execution_count": 166,
     "metadata": {},
     "output_type": "execute_result"
    }
   ],
   "source": [
    "client.indices.get_mapping(index_name)"
   ]
  }
 ],
 "metadata": {
  "kernelspec": {
   "display_name": "venv",
   "language": "python",
   "name": "python3"
  },
  "language_info": {
   "codemirror_mode": {
    "name": "ipython",
    "version": 3
   },
   "file_extension": ".py",
   "mimetype": "text/x-python",
   "name": "python",
   "nbconvert_exporter": "python",
   "pygments_lexer": "ipython3",
   "version": "3.12.4"
  }
 },
 "nbformat": 4,
 "nbformat_minor": 2
}
