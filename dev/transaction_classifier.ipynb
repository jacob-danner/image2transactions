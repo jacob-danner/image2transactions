{
 "cells": [
  {
   "cell_type": "code",
   "execution_count": 1,
   "metadata": {},
   "outputs": [
    {
     "name": "stderr",
     "output_type": "stream",
     "text": [
      "/Users/jdanner/Documents/image2transactions/venv/lib/python3.12/site-packages/opensearchpy/connection/http_urllib3.py:214: UserWarning: Connecting to https://localhost:9200 using SSL with verify_certs=False is insecure.\n",
      "  warnings.warn(\n"
     ]
    }
   ],
   "source": [
    "import sys\n",
    "import os\n",
    "\n",
    "project_root = os.path.abspath(os.path.join(os.getcwd(), '..'))\n",
    "sys.path.insert(0, project_root)\n",
    "\n",
    "from src.transaction_classifier.chains import transaction_classifier_chain, rank_chain, classify_chain\n",
    "from src.models import CleanedTransaction"
   ]
  },
  {
   "cell_type": "code",
   "execution_count": 6,
   "metadata": {},
   "outputs": [],
   "source": [
    "ex_transaction = CleanedTransaction(vendor='PHO 515', amount=21.93, day=6)\n",
    "input_data = {\"input_transaction\": ex_transaction}"
   ]
  },
  {
   "cell_type": "code",
   "execution_count": 3,
   "metadata": {},
   "outputs": [
    {
     "data": {
      "text/plain": [
       "{'input_transaction': CleanedTransaction(vendor='PHO 515', amount=21.93, day=6),\n",
       " 'classification_problem_context': 'ranked_by_similarity:\\n    - transaction: {\"vendor\":\"PHO 515\",\"amount\":21.93,\"day\":6}\\n        score: 10\\nunclassified_transaction: {\"vendor\":\"PHO 515\",\"amount\":21.93,\"day\":6}'}"
      ]
     },
     "execution_count": 3,
     "metadata": {},
     "output_type": "execute_result"
    }
   ],
   "source": [
    "rank_chain_output = rank_chain.invoke(input_data)\n",
    "rank_chain_output"
   ]
  },
  {
   "cell_type": "code",
   "execution_count": 4,
   "metadata": {},
   "outputs": [
    {
     "data": {
      "text/plain": [
       "{'input_transaction': CleanedTransaction(vendor='PHO 515', amount=21.93, day=6),\n",
       " 'classification_problem_context': 'ranked_by_similarity:\\n    - transaction: {\"vendor\":\"PHO 515\",\"amount\":21.93,\"day\":6}\\n        score: 10\\nunclassified_transaction: {\"vendor\":\"PHO 515\",\"amount\":21.93,\"day\":6}',\n",
       " 'classification': \"'Discover:Main:Assets:X'\",\n",
       " 'classified_transaction': ClassifiedTransaction(vendor='PHO 515', amount=21.93, day=6, from_account=\"'Discover:Main:Assets:X'\")}"
      ]
     },
     "execution_count": 4,
     "metadata": {},
     "output_type": "execute_result"
    }
   ],
   "source": [
    "classify_chain_output = classify_chain.invoke(rank_chain_output)\n",
    "classify_chain_output"
   ]
  },
  {
   "cell_type": "code",
   "execution_count": 7,
   "metadata": {},
   "outputs": [
    {
     "data": {
      "text/plain": [
       "ClassifiedTransaction(vendor='PHO 515', amount=21.93, day=6, from_account=\"'Discover:Main:UNKNOWN'\")"
      ]
     },
     "execution_count": 7,
     "metadata": {},
     "output_type": "execute_result"
    }
   ],
   "source": [
    "transaction_classifier_chain.invoke(input_data)"
   ]
  }
 ],
 "metadata": {
  "kernelspec": {
   "display_name": "venv",
   "language": "python",
   "name": "python3"
  },
  "language_info": {
   "codemirror_mode": {
    "name": "ipython",
    "version": 3
   },
   "file_extension": ".py",
   "mimetype": "text/x-python",
   "name": "python",
   "nbconvert_exporter": "python",
   "pygments_lexer": "ipython3",
   "version": "3.12.4"
  }
 },
 "nbformat": 4,
 "nbformat_minor": 2
}
