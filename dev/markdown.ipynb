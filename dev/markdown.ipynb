{
 "cells": [
  {
   "cell_type": "code",
   "execution_count": 1,
   "metadata": {},
   "outputs": [],
   "source": [
    "import sys\n",
    "import os\n",
    "\n",
    "project_root = os.path.abspath(os.path.join(os.getcwd(), '..'))\n",
    "sys.path.insert(0, project_root)\n",
    "\n",
    "from src.format_markdown import transaction_to_markdown, transactions_to_markdown\n",
    "from src.models import ClassifiedTransaction"
   ]
  },
  {
   "cell_type": "code",
   "execution_count": 2,
   "metadata": {},
   "outputs": [],
   "source": [
    "transactions = [\n",
    "    ClassifiedTransaction(vendor='PANCHEROS', amount=13.0, day=8, from_account='Assets:Discover:Main:Wants:Other'),\n",
    "    ClassifiedTransaction(vendor='PANCHEROS', amount=13.0, day=7, from_account='Assets:Discover:Main:Wants:Other'),\n",
    "    ClassifiedTransaction(vendor='HIGHLIFE-BAITSHOP', amount=8.05, day=6, from_account='Assets:Discover:Main:Wants:Other'),\n",
    "    ClassifiedTransaction(vendor='PHO 515', amount=21.93, day=6, from_account='Assets:Discover:Main:UNKNOWN')\n",
    "]"
   ]
  },
  {
   "cell_type": "code",
   "execution_count": 3,
   "metadata": {},
   "outputs": [
    {
     "name": "stdout",
     "output_type": "stream",
     "text": [
      "| PANCHEROS | 13.0 | 8 | Assets:Discover:Main:Wants:Other | Assets:Discover:Spent |\n",
      "| PANCHEROS | 13.0 | 8 | Liabilities:CreditCard | Expenses:Assets:Discover:Main:Wants:Other |\n"
     ]
    }
   ],
   "source": [
    "print(transaction_to_markdown(transactions[0]))"
   ]
  },
  {
   "cell_type": "code",
   "execution_count": 4,
   "metadata": {},
   "outputs": [
    {
     "name": "stdout",
     "output_type": "stream",
     "text": [
      "| PHO 515 | 21.93 | 6 | Assets:Discover:Main:UNKNOWN | Assets:Discover:Spent |\n",
      "| PHO 515 | 21.93 | 6 | Liabilities:CreditCard | Expenses:Assets:Discover:Main:UNKNOWN |\n",
      "| HIGHLIFE-BAITSHOP | 8.05 | 6 | Assets:Discover:Main:Wants:Other | Assets:Discover:Spent |\n",
      "| HIGHLIFE-BAITSHOP | 8.05 | 6 | Liabilities:CreditCard | Expenses:Assets:Discover:Main:Wants:Other |\n",
      "| PANCHEROS | 13.0 | 7 | Assets:Discover:Main:Wants:Other | Assets:Discover:Spent |\n",
      "| PANCHEROS | 13.0 | 7 | Liabilities:CreditCard | Expenses:Assets:Discover:Main:Wants:Other |\n",
      "| PANCHEROS | 13.0 | 8 | Assets:Discover:Main:Wants:Other | Assets:Discover:Spent |\n",
      "| PANCHEROS | 13.0 | 8 | Liabilities:CreditCard | Expenses:Assets:Discover:Main:Wants:Other |\n"
     ]
    }
   ],
   "source": [
    "print(transactions_to_markdown(transactions))"
   ]
  }
 ],
 "metadata": {
  "kernelspec": {
   "display_name": "venv",
   "language": "python",
   "name": "python3"
  },
  "language_info": {
   "codemirror_mode": {
    "name": "ipython",
    "version": 3
   },
   "file_extension": ".py",
   "mimetype": "text/x-python",
   "name": "python",
   "nbconvert_exporter": "python",
   "pygments_lexer": "ipython3",
   "version": "3.12.4"
  }
 },
 "nbformat": 4,
 "nbformat_minor": 2
}
