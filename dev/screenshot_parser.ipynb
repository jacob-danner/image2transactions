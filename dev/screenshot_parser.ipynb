{
 "cells": [
  {
   "cell_type": "code",
   "execution_count": 1,
   "metadata": {},
   "outputs": [
    {
     "name": "stderr",
     "output_type": "stream",
     "text": [
      "/Users/jdanner/Documents/image2transactions/venv/lib/python3.12/site-packages/opensearchpy/connection/http_urllib3.py:214: UserWarning: Connecting to https://localhost:9200 using SSL with verify_certs=False is insecure.\n",
      "  warnings.warn(\n"
     ]
    }
   ],
   "source": [
    "import sys\n",
    "import os\n",
    "\n",
    "project_root = os.path.abspath(os.path.join(os.getcwd(), '..'))\n",
    "sys.path.insert(0, project_root)\n",
    "\n",
    "from src.screenshot_parser.chains import parse_transactions_chain, clean_transactions_chain, screenshot_parser_chain"
   ]
  },
  {
   "cell_type": "code",
   "execution_count": 2,
   "metadata": {},
   "outputs": [],
   "source": [
    "image_path = '../data/images/1.png'"
   ]
  },
  {
   "cell_type": "code",
   "execution_count": 3,
   "metadata": {},
   "outputs": [
    {
     "data": {
      "text/plain": [
       "[RawTransaction(vendor=\"MCDONALD'S F33943 URBANDALE IA\", amount='6.61', date='2024-06-27'),\n",
       " RawTransaction(vendor='WALMART STORE 01764 WINDSOR HEIGHIA', amount='33.07', date='2024-06-27'),\n",
       " RawTransaction(vendor='PANCHEROS 2122600895 IA', amount='11.56', date='2024-06-26'),\n",
       " RawTransaction(vendor=\"DOMINO'S 1720 DES MOINES IA\", amount='20.80', date='2024-06-25'),\n",
       " RawTransaction(vendor='AMAZON PRIME*RC4F123U0 888-802-3080 WAYQAE3SP82RM', amount='13.90', date='2024-06-24')]"
      ]
     },
     "execution_count": 3,
     "metadata": {},
     "output_type": "execute_result"
    }
   ],
   "source": [
    "parse_transactions_output = parse_transactions_chain.invoke(image_path)\n",
    "parse_transactions_output"
   ]
  },
  {
   "cell_type": "code",
   "execution_count": 4,
   "metadata": {},
   "outputs": [
    {
     "data": {
      "text/plain": [
       "[CleanedTransaction(vendor=\"MCDONALD'S\", amount=6.61, day=27),\n",
       " CleanedTransaction(vendor='WALMART', amount=33.07, day=27),\n",
       " CleanedTransaction(vendor='PANCHEROS', amount=11.56, day=26),\n",
       " CleanedTransaction(vendor=\"DOMINO'S\", amount=20.8, day=25),\n",
       " CleanedTransaction(vendor='AMAZON', amount=13.9, day=24)]"
      ]
     },
     "execution_count": 4,
     "metadata": {},
     "output_type": "execute_result"
    }
   ],
   "source": [
    "clean_transactions_output = clean_transactions_chain.invoke(parse_transactions_output)\n",
    "clean_transactions_output"
   ]
  },
  {
   "cell_type": "code",
   "execution_count": 5,
   "metadata": {},
   "outputs": [
    {
     "data": {
      "text/plain": [
       "[CleanedTransaction(vendor=\"MCDONALD'S\", amount=6.61, day=27),\n",
       " CleanedTransaction(vendor='WALMART', amount=33.07, day=27),\n",
       " CleanedTransaction(vendor='PANCHEROS', amount=11.56, day=26),\n",
       " CleanedTransaction(vendor=\"DOMINO'S\", amount=20.8, day=25),\n",
       " CleanedTransaction(vendor='AMAZON', amount=13.9, day=24)]"
      ]
     },
     "execution_count": 5,
     "metadata": {},
     "output_type": "execute_result"
    }
   ],
   "source": [
    "screenshot_parser_chain.invoke(image_path)"
   ]
  }
 ],
 "metadata": {
  "kernelspec": {
   "display_name": "venv",
   "language": "python",
   "name": "python3"
  },
  "language_info": {
   "codemirror_mode": {
    "name": "ipython",
    "version": 3
   },
   "file_extension": ".py",
   "mimetype": "text/x-python",
   "name": "python",
   "nbconvert_exporter": "python",
   "pygments_lexer": "ipython3",
   "version": "3.12.4"
  }
 },
 "nbformat": 4,
 "nbformat_minor": 2
}
