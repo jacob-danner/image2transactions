{
 "cells": [
  {
   "cell_type": "code",
   "execution_count": 14,
   "metadata": {},
   "outputs": [],
   "source": [
    "import sys\n",
    "import os\n",
    "\n",
    "project_root = os.path.abspath(os.path.join(os.getcwd(), '..'))\n",
    "sys.path.insert(0, project_root)\n",
    "\n",
    "from src.opensearch.client import client, index_name\n",
    "from src.opensearch.retrieve import OpenSearchRetriever"
   ]
  },
  {
   "cell_type": "code",
   "execution_count": 13,
   "metadata": {},
   "outputs": [
    {
     "data": {
      "text/plain": [
       "[Document(page_content=\"{'vendor': 'AMAZON PRIME HBO MAX', 'day': '22', 'amount': '10.69', 'from_account': 'Assets:Discover:Main:Wants:Monthly'}\"),\n",
       " Document(page_content=\"{'vendor': 'AMAZON PRIME', 'day': '04', 'amount': '16.04', 'from_account': 'Assets:Discover:Main:Needs:Monthly'}\"),\n",
       " Document(page_content=\"{'vendor': 'AMAZON EMILY GRAD GIFT FILM', 'day': '15', 'amount': '29.92', 'from_account': 'Assets:Discover:FutureWants'}\"),\n",
       " Document(page_content=\"{'vendor': 'AMAZON EMILY GRAD GIFT', 'day': '12', 'amount': '109.50', 'from_account': 'Assets:Discover:FutureWants'}\"),\n",
       " Document(page_content=\"{'vendor': 'AMAZON HOUSE UTILITIES', 'day': '02', 'amount': '76.01', 'from_account': 'Assets:Discover:Furniture'}\"),\n",
       " Document(page_content=\"{'vendor': 'AMAZON.COM CEREAL FOR DAD', 'day': '17', 'amount': '12.12', 'from_account': 'Assets:Discover:Main:Wants:Other'}\"),\n",
       " Document(page_content=\"{'vendor': 'AMAZON HBO', 'day': '22', 'amount': '10.69', 'from_account': 'Assets:Discover:Main:Needs:Groceries'}\")]"
      ]
     },
     "execution_count": 13,
     "metadata": {},
     "output_type": "execute_result"
    }
   ],
   "source": [
    "retriever = OpenSearchRetriever(client=client, index_name=index_name)\n",
    "retriever.invoke('AMAZON PRIME')"
   ]
  }
 ],
 "metadata": {
  "kernelspec": {
   "display_name": "venv",
   "language": "python",
   "name": "python3"
  },
  "language_info": {
   "codemirror_mode": {
    "name": "ipython",
    "version": 3
   },
   "file_extension": ".py",
   "mimetype": "text/x-python",
   "name": "python",
   "nbconvert_exporter": "python",
   "pygments_lexer": "ipython3",
   "version": "3.12.4"
  }
 },
 "nbformat": 4,
 "nbformat_minor": 2
}
