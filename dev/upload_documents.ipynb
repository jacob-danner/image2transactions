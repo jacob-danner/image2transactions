{
 "cells": [
  {
   "cell_type": "markdown",
   "metadata": {},
   "source": [
    "Collected by passing the ledger files to gpt 4o with the prompt\n",
    "\n",
    "```\n",
    "\"\"\"\n",
    "For each transaction in my data where the transaction goes to Assets:Discover:Spent, extract the transaction's information in the following format:\n",
    "\n",
    "{\n",
    "    \"MCDONALD’S\": {\"day\": \"07\", \"amount\": \"6.51\", \"from\": \"Assets:Discover:Main:Wants:Other\"},\n",
    "    ...\n",
    "}\n",
    "\"\"\"\n",
    "```"
   ]
  },
  {
   "cell_type": "code",
   "execution_count": 19,
   "metadata": {},
   "outputs": [],
   "source": [
    "import sys\n",
    "import os\n",
    "\n",
    "project_root = os.path.abspath(os.path.join(os.getcwd(), '..'))\n",
    "sys.path.insert(0, project_root)\n",
    "\n",
    "from src.opensearch.client import client, index_name\n",
    "from src.opensearch.upload import add_index, add_documents\n"
   ]
  },
  {
   "cell_type": "code",
   "execution_count": 5,
   "metadata": {},
   "outputs": [],
   "source": [
    "transactions = \"\"\"\n",
    "\"\"\""
   ]
  },
  {
   "cell_type": "code",
   "execution_count": 11,
   "metadata": {},
   "outputs": [
    {
     "data": {
      "text/plain": [
       "'{\\n    \"UNIVERSITY LIBRAR\": {\"day\": \"23\", \"amount\": \"38.86\", \"from_account\": \"Assets:Discover:Main:Wants:Other\"},\\n    \"DES MOINES BEER G\": {\"day\": \"23\", \"amount\": \"34.16\", \"from_account\": \"Assets:Discover:Main:Wants:Other\"},\\n    \"AMAZON\": {\"day\": \"24\", \"amount\": \"13.9\", \"from_account\": \"Assets:Discover:Main:Wants:Other\"},\\n    \"DOMINO\\'S\": {\"day\": \"25\", \"amount\": \"20.8\", \"from_account\": \"Assets:Discover:Main:Wants:Other\"},\\n    \"PANCHEROS\": {\"day\": \"26\", \"amount\": \"11.56\", \"from_account\": \"Assets:Discover:Main:Wants:Other\"},\\n    \"WALMART\": {\"day\": \"27\", \"amount\": \"33.07\", \"from_account\": \"Assets:Discover:Main:Needs:Groceries\"},\\n    \"MCDONALD\\'S\": {\"day\": \"27\", \"amount\": \"6.61\", \"from_account\": \"Assets:Discover:Main:Wants:Other\"},\\n    \"HY-VEE\": {\"day\": \"28\", \"amount\": \"24.11\", \"from_account\": \"Assets:Discover:Main:Needs:Groceries\"},\\n    \"OBSIDIAN.MD\": {\"day\": \"29\", \"amount\": \"10.0\", \"from_account\": \"Assets:Discover:Main:Wants:Other\"},\\n    \"GOOGLE\": {\"day\": \"1\", \"amount\": \"24.84\", \"from_account\": \"Assets:Discover:Main:Wants:Monthly\"},\\n    \"TASTY TACOS\": {\"day\": \"1\", \"amount\": \"13.96\", \"from_account\": \"Assets:Discover:Main:Wants:Other\"},\\n    \"CASEY\\'S\": {\"day\": \"1\", \"amount\": \"40.48\", \"from_account\": \"Assets:Discover:Main:Needs:Gas\"},\\n    \"MCDONALD\\'S\": {\"day\": \"2\", \"amount\": \"2.77\", \"from_account\": \"Assets:Discover:Main:Wants:Other\"},\\n    \"ROLLING WOK CAFE\": {\"day\": \"3\", \"amount\": \"41.93\", \"from_account\": \"Assets:Discover:Main:Wants:Other\"},\\n    \"AMAZON\": {\"day\": \"3\", \"amount\": \"6.6\", \"from_account\": \"Assets:Discover:Main:Wants:Monthly\"},\\n    \"TARGET\": {\"day\": \"4\", \"amount\": \"17.31\", \"from_account\": \"Assets:Discover:Main:Wants:Other\"},\\n    \"OPENAI\": {\"day\": \"4\", \"amount\": \"20.0\", \"from_account\": \"Assets:Discover:Main:Wants:Monthly\"},\\n    \"KOHL\\'S\": {\"day\": \"4\", \"amount\": \"47.04\", \"from_account\": \"Assets:Discover:Main:Wants:Other\"},\\n    \"AMAZON\": {\"day\": \"4\", \"amount\": \"16.04\", \"from_account\": \"Assets:Discover:Main:Needs:Monthly\"},\\n    \"PHO 515\": {\"day\": \"6\", \"amount\": \"21.93\", \"from_account\": \"Assets:Discover:Main:Wants:Other\"},\\n    \"HIGHLIFE-BAITSHOP\": {\"day\": \"6\", \"amount\": \"8.05\", \"from_account\": \"Assets:Discover:Main:Wants:Other\"},\\n    \"PANCHEROS\": {\"day\": \"7\", \"amount\": \"13.0\", \"from_account\": \"Assets:Discover:Main:Wants:Other\"},\\n    \"PANCHEROS\": {\"day\": \"8\", \"amount\": \"13.0\", \"from_account\": \"Assets:Discover:Main:Wants:Other\"}\\n}'"
      ]
     },
     "execution_count": 11,
     "metadata": {},
     "output_type": "execute_result"
    }
   ],
   "source": [
    "from langchain_openai import ChatOpenAI\n",
    "from langchain_core.prompts import PromptTemplate\n",
    "from langchain_core.output_parsers import StrOutputParser\n",
    "\n",
    "template = \"\"\"\n",
    "__Task__: Convert the format of these transactions.\n",
    "\n",
    "__Instructions__:\n",
    "1. Convert each transaction into a python dict with the following shape:\n",
    "{{\n",
    "    \"TRANSACTIONNAME\": {{\"day\": \"string\", \"amount\": \"string\", \"from_account\": \"string\"}}\n",
    "}}\n",
    "2. Output __only__ the dict of transactions. Without any additional text, symbols, or Markdown formatting.\n",
    "\n",
    "__Desired output__: Example:\n",
    "{{\n",
    "    \"MCDONALD'S\": {{\"day\": \"07\", \"amount\": \"6.51\", \"from_account\": \"Assets:Discover:Main:Wants:Other\"}},\n",
    "    \"MAD MAX TICKETS\": {{\"day\": \"07\", \"amount\": \"28.46\", \"from_account\": \"Assets:Discover:Main:Wants:Other\"}},\n",
    "    \"SQ BERNARDOS BURRITOS\": {{\"day\": \"08\", \"amount\": \"11.22\", \"from_account\": \"Assets:Discover:Main:Wants:Other\"}},\n",
    "}}\n",
    "---\n",
    "{transactions}\n",
    "\"\"\"\n",
    "\n",
    "prompt = PromptTemplate.from_template(template)\n",
    "llm = ChatOpenAI()\n",
    "\n",
    "chain = (\n",
    "    prompt\n",
    "    | llm\n",
    "    | StrOutputParser()\n",
    ")\n",
    "\n",
    "output = chain.invoke({\"transactions\": transactions})\n",
    "print(output)"
   ]
  },
  {
   "cell_type": "code",
   "execution_count": 20,
   "metadata": {},
   "outputs": [],
   "source": [
    "jul_8 = {\n",
    "    \"UNIVERSITY LIBRAR\": {\"day\": \"23\", \"amount\": \"38.86\", \"from_account\": \"Assets:Discover:Main:Wants:Other\"},\n",
    "    \"DES MOINES BEER G\": {\"day\": \"23\", \"amount\": \"34.16\", \"from_account\": \"Assets:Discover:Main:Wants:Other\"},\n",
    "    \"AMAZON\": {\"day\": \"24\", \"amount\": \"13.9\", \"from_account\": \"Assets:Discover:Main:Wants:Other\"},\n",
    "    \"DOMINO'S\": {\"day\": \"25\", \"amount\": \"20.8\", \"from_account\": \"Assets:Discover:Main:Wants:Other\"},\n",
    "    \"PANCHEROS\": {\"day\": \"26\", \"amount\": \"11.56\", \"from_account\": \"Assets:Discover:Main:Wants:Other\"},\n",
    "    \"WALMART\": {\"day\": \"27\", \"amount\": \"33.07\", \"from_account\": \"Assets:Discover:Main:Needs:Groceries\"},\n",
    "    \"MCDONALD'S\": {\"day\": \"27\", \"amount\": \"6.61\", \"from_account\": \"Assets:Discover:Main:Wants:Other\"},\n",
    "    \"HY-VEE\": {\"day\": \"28\", \"amount\": \"24.11\", \"from_account\": \"Assets:Discover:Main:Needs:Groceries\"},\n",
    "    \"OBSIDIAN.MD\": {\"day\": \"29\", \"amount\": \"10.0\", \"from_account\": \"Assets:Discover:Main:Wants:Other\"},\n",
    "    \"GOOGLE\": {\"day\": \"1\", \"amount\": \"24.84\", \"from_account\": \"Assets:Discover:Main:Wants:Monthly\"},\n",
    "    \"TASTY TACOS\": {\"day\": \"1\", \"amount\": \"13.96\", \"from_account\": \"Assets:Discover:Main:Wants:Other\"},\n",
    "    \"CASEY'S\": {\"day\": \"1\", \"amount\": \"40.48\", \"from_account\": \"Assets:Discover:Main:Needs:Gas\"},\n",
    "    \"MCDONALD'S\": {\"day\": \"2\", \"amount\": \"2.77\", \"from_account\": \"Assets:Discover:Main:Wants:Other\"},\n",
    "    \"ROLLING WOK CAFE\": {\"day\": \"3\", \"amount\": \"41.93\", \"from_account\": \"Assets:Discover:Main:Wants:Other\"},\n",
    "    \"AMAZON\": {\"day\": \"3\", \"amount\": \"6.6\", \"from_account\": \"Assets:Discover:Main:Wants:Monthly\"},\n",
    "    \"TARGET\": {\"day\": \"4\", \"amount\": \"17.31\", \"from_account\": \"Assets:Discover:Main:Wants:Other\"},\n",
    "    \"OPENAI\": {\"day\": \"4\", \"amount\": \"20.0\", \"from_account\": \"Assets:Discover:Main:Wants:Monthly\"},\n",
    "    \"KOHL'S\": {\"day\": \"4\", \"amount\": \"47.04\", \"from_account\": \"Assets:Discover:Main:Wants:Other\"},\n",
    "    \"AMAZON\": {\"day\": \"4\", \"amount\": \"16.04\", \"from_account\": \"Assets:Discover:Main:Needs:Monthly\"},\n",
    "    \"PHO 515\": {\"day\": \"6\", \"amount\": \"21.93\", \"from_account\": \"Assets:Discover:Main:Wants:Other\"},\n",
    "    \"HIGHLIFE-BAITSHOP\": {\"day\": \"6\", \"amount\": \"8.05\", \"from_account\": \"Assets:Discover:Main:Wants:Other\"},\n",
    "    \"PANCHEROS\": {\"day\": \"7\", \"amount\": \"13.0\", \"from_account\": \"Assets:Discover:Main:Wants:Other\"},\n",
    "    \"PANCHEROS\": {\"day\": \"8\", \"amount\": \"13.0\", \"from_account\": \"Assets:Discover:Main:Wants:Other\"}\n",
    "}\n",
    "\n",
    "add_documents(client, index_name, [jul_8])"
   ]
  },
  {
   "cell_type": "code",
   "execution_count": 4,
   "metadata": {},
   "outputs": [
    {
     "ename": "ConnectionError",
     "evalue": "ConnectionError(<urllib3.connection.HTTPSConnection object at 0x1147db230>: Failed to establish a new connection: [Errno 61] Connection refused) caused by: NewConnectionError(<urllib3.connection.HTTPSConnection object at 0x1147db230>: Failed to establish a new connection: [Errno 61] Connection refused)",
     "output_type": "error",
     "traceback": [
      "\u001b[0;31m---------------------------------------------------------------------------\u001b[0m",
      "\u001b[0;31mConnectionRefusedError\u001b[0m                    Traceback (most recent call last)",
      "File \u001b[0;32m~/Documents/image2transactions/venv/lib/python3.12/site-packages/urllib3/connection.py:196\u001b[0m, in \u001b[0;36mHTTPConnection._new_conn\u001b[0;34m(self)\u001b[0m\n\u001b[1;32m    195\u001b[0m \u001b[38;5;28;01mtry\u001b[39;00m:\n\u001b[0;32m--> 196\u001b[0m     sock \u001b[38;5;241m=\u001b[39m \u001b[43mconnection\u001b[49m\u001b[38;5;241;43m.\u001b[39;49m\u001b[43mcreate_connection\u001b[49m\u001b[43m(\u001b[49m\n\u001b[1;32m    197\u001b[0m \u001b[43m        \u001b[49m\u001b[43m(\u001b[49m\u001b[38;5;28;43mself\u001b[39;49m\u001b[38;5;241;43m.\u001b[39;49m\u001b[43m_dns_host\u001b[49m\u001b[43m,\u001b[49m\u001b[43m \u001b[49m\u001b[38;5;28;43mself\u001b[39;49m\u001b[38;5;241;43m.\u001b[39;49m\u001b[43mport\u001b[49m\u001b[43m)\u001b[49m\u001b[43m,\u001b[49m\n\u001b[1;32m    198\u001b[0m \u001b[43m        \u001b[49m\u001b[38;5;28;43mself\u001b[39;49m\u001b[38;5;241;43m.\u001b[39;49m\u001b[43mtimeout\u001b[49m\u001b[43m,\u001b[49m\n\u001b[1;32m    199\u001b[0m \u001b[43m        \u001b[49m\u001b[43msource_address\u001b[49m\u001b[38;5;241;43m=\u001b[39;49m\u001b[38;5;28;43mself\u001b[39;49m\u001b[38;5;241;43m.\u001b[39;49m\u001b[43msource_address\u001b[49m\u001b[43m,\u001b[49m\n\u001b[1;32m    200\u001b[0m \u001b[43m        \u001b[49m\u001b[43msocket_options\u001b[49m\u001b[38;5;241;43m=\u001b[39;49m\u001b[38;5;28;43mself\u001b[39;49m\u001b[38;5;241;43m.\u001b[39;49m\u001b[43msocket_options\u001b[49m\u001b[43m,\u001b[49m\n\u001b[1;32m    201\u001b[0m \u001b[43m    \u001b[49m\u001b[43m)\u001b[49m\n\u001b[1;32m    202\u001b[0m \u001b[38;5;28;01mexcept\u001b[39;00m socket\u001b[38;5;241m.\u001b[39mgaierror \u001b[38;5;28;01mas\u001b[39;00m e:\n",
      "File \u001b[0;32m~/Documents/image2transactions/venv/lib/python3.12/site-packages/urllib3/util/connection.py:85\u001b[0m, in \u001b[0;36mcreate_connection\u001b[0;34m(address, timeout, source_address, socket_options)\u001b[0m\n\u001b[1;32m     84\u001b[0m \u001b[38;5;28;01mtry\u001b[39;00m:\n\u001b[0;32m---> 85\u001b[0m     \u001b[38;5;28;01mraise\u001b[39;00m err\n\u001b[1;32m     86\u001b[0m \u001b[38;5;28;01mfinally\u001b[39;00m:\n\u001b[1;32m     87\u001b[0m     \u001b[38;5;66;03m# Break explicitly a reference cycle\u001b[39;00m\n",
      "File \u001b[0;32m~/Documents/image2transactions/venv/lib/python3.12/site-packages/urllib3/util/connection.py:73\u001b[0m, in \u001b[0;36mcreate_connection\u001b[0;34m(address, timeout, source_address, socket_options)\u001b[0m\n\u001b[1;32m     72\u001b[0m     sock\u001b[38;5;241m.\u001b[39mbind(source_address)\n\u001b[0;32m---> 73\u001b[0m \u001b[43msock\u001b[49m\u001b[38;5;241;43m.\u001b[39;49m\u001b[43mconnect\u001b[49m\u001b[43m(\u001b[49m\u001b[43msa\u001b[49m\u001b[43m)\u001b[49m\n\u001b[1;32m     74\u001b[0m \u001b[38;5;66;03m# Break explicitly a reference cycle\u001b[39;00m\n",
      "\u001b[0;31mConnectionRefusedError\u001b[0m: [Errno 61] Connection refused",
      "\nThe above exception was the direct cause of the following exception:\n",
      "\u001b[0;31mNewConnectionError\u001b[0m                        Traceback (most recent call last)",
      "File \u001b[0;32m~/Documents/image2transactions/venv/lib/python3.12/site-packages/opensearchpy/connection/http_urllib3.py:280\u001b[0m, in \u001b[0;36mUrllib3HttpConnection.perform_request\u001b[0;34m(self, method, url, params, body, timeout, ignore, headers)\u001b[0m\n\u001b[1;32m    278\u001b[0m \u001b[38;5;28mself\u001b[39m\u001b[38;5;241m.\u001b[39mmetrics\u001b[38;5;241m.\u001b[39mrequest_start()\n\u001b[0;32m--> 280\u001b[0m response \u001b[38;5;241m=\u001b[39m \u001b[38;5;28;43mself\u001b[39;49m\u001b[38;5;241;43m.\u001b[39;49m\u001b[43mpool\u001b[49m\u001b[38;5;241;43m.\u001b[39;49m\u001b[43murlopen\u001b[49m\u001b[43m(\u001b[49m\n\u001b[1;32m    281\u001b[0m \u001b[43m    \u001b[49m\u001b[43mmethod\u001b[49m\u001b[43m,\u001b[49m\u001b[43m \u001b[49m\u001b[43murl\u001b[49m\u001b[43m,\u001b[49m\u001b[43m \u001b[49m\u001b[43mbody\u001b[49m\u001b[43m,\u001b[49m\u001b[43m \u001b[49m\u001b[43mretries\u001b[49m\u001b[38;5;241;43m=\u001b[39;49m\u001b[43mRetry\u001b[49m\u001b[43m(\u001b[49m\u001b[38;5;28;43;01mFalse\u001b[39;49;00m\u001b[43m)\u001b[49m\u001b[43m,\u001b[49m\u001b[43m \u001b[49m\u001b[43mheaders\u001b[49m\u001b[38;5;241;43m=\u001b[39;49m\u001b[43mrequest_headers\u001b[49m\u001b[43m,\u001b[49m\u001b[43m \u001b[49m\u001b[38;5;241;43m*\u001b[39;49m\u001b[38;5;241;43m*\u001b[39;49m\u001b[43mkw\u001b[49m\n\u001b[1;32m    282\u001b[0m \u001b[43m\u001b[49m\u001b[43m)\u001b[49m\n\u001b[1;32m    283\u001b[0m duration \u001b[38;5;241m=\u001b[39m time\u001b[38;5;241m.\u001b[39mtime() \u001b[38;5;241m-\u001b[39m start\n",
      "File \u001b[0;32m~/Documents/image2transactions/venv/lib/python3.12/site-packages/urllib3/connectionpool.py:843\u001b[0m, in \u001b[0;36mHTTPConnectionPool.urlopen\u001b[0;34m(self, method, url, body, headers, retries, redirect, assert_same_host, timeout, pool_timeout, release_conn, chunked, body_pos, preload_content, decode_content, **response_kw)\u001b[0m\n\u001b[1;32m    841\u001b[0m     new_e \u001b[38;5;241m=\u001b[39m ProtocolError(\u001b[38;5;124m\"\u001b[39m\u001b[38;5;124mConnection aborted.\u001b[39m\u001b[38;5;124m\"\u001b[39m, new_e)\n\u001b[0;32m--> 843\u001b[0m retries \u001b[38;5;241m=\u001b[39m \u001b[43mretries\u001b[49m\u001b[38;5;241;43m.\u001b[39;49m\u001b[43mincrement\u001b[49m\u001b[43m(\u001b[49m\n\u001b[1;32m    844\u001b[0m \u001b[43m    \u001b[49m\u001b[43mmethod\u001b[49m\u001b[43m,\u001b[49m\u001b[43m \u001b[49m\u001b[43murl\u001b[49m\u001b[43m,\u001b[49m\u001b[43m \u001b[49m\u001b[43merror\u001b[49m\u001b[38;5;241;43m=\u001b[39;49m\u001b[43mnew_e\u001b[49m\u001b[43m,\u001b[49m\u001b[43m \u001b[49m\u001b[43m_pool\u001b[49m\u001b[38;5;241;43m=\u001b[39;49m\u001b[38;5;28;43mself\u001b[39;49m\u001b[43m,\u001b[49m\u001b[43m \u001b[49m\u001b[43m_stacktrace\u001b[49m\u001b[38;5;241;43m=\u001b[39;49m\u001b[43msys\u001b[49m\u001b[38;5;241;43m.\u001b[39;49m\u001b[43mexc_info\u001b[49m\u001b[43m(\u001b[49m\u001b[43m)\u001b[49m\u001b[43m[\u001b[49m\u001b[38;5;241;43m2\u001b[39;49m\u001b[43m]\u001b[49m\n\u001b[1;32m    845\u001b[0m \u001b[43m\u001b[49m\u001b[43m)\u001b[49m\n\u001b[1;32m    846\u001b[0m retries\u001b[38;5;241m.\u001b[39msleep()\n",
      "File \u001b[0;32m~/Documents/image2transactions/venv/lib/python3.12/site-packages/urllib3/util/retry.py:449\u001b[0m, in \u001b[0;36mRetry.increment\u001b[0;34m(self, method, url, response, error, _pool, _stacktrace)\u001b[0m\n\u001b[1;32m    447\u001b[0m \u001b[38;5;28;01mif\u001b[39;00m \u001b[38;5;28mself\u001b[39m\u001b[38;5;241m.\u001b[39mtotal \u001b[38;5;129;01mis\u001b[39;00m \u001b[38;5;28;01mFalse\u001b[39;00m \u001b[38;5;129;01mand\u001b[39;00m error:\n\u001b[1;32m    448\u001b[0m     \u001b[38;5;66;03m# Disabled, indicate to re-raise the error.\u001b[39;00m\n\u001b[0;32m--> 449\u001b[0m     \u001b[38;5;28;01mraise\u001b[39;00m \u001b[43mreraise\u001b[49m\u001b[43m(\u001b[49m\u001b[38;5;28;43mtype\u001b[39;49m\u001b[43m(\u001b[49m\u001b[43merror\u001b[49m\u001b[43m)\u001b[49m\u001b[43m,\u001b[49m\u001b[43m \u001b[49m\u001b[43merror\u001b[49m\u001b[43m,\u001b[49m\u001b[43m \u001b[49m\u001b[43m_stacktrace\u001b[49m\u001b[43m)\u001b[49m\n\u001b[1;32m    451\u001b[0m total \u001b[38;5;241m=\u001b[39m \u001b[38;5;28mself\u001b[39m\u001b[38;5;241m.\u001b[39mtotal\n",
      "File \u001b[0;32m~/Documents/image2transactions/venv/lib/python3.12/site-packages/urllib3/util/util.py:39\u001b[0m, in \u001b[0;36mreraise\u001b[0;34m(tp, value, tb)\u001b[0m\n\u001b[1;32m     38\u001b[0m         \u001b[38;5;28;01mraise\u001b[39;00m value\u001b[38;5;241m.\u001b[39mwith_traceback(tb)\n\u001b[0;32m---> 39\u001b[0m     \u001b[38;5;28;01mraise\u001b[39;00m value\n\u001b[1;32m     40\u001b[0m \u001b[38;5;28;01mfinally\u001b[39;00m:\n",
      "File \u001b[0;32m~/Documents/image2transactions/venv/lib/python3.12/site-packages/urllib3/connectionpool.py:789\u001b[0m, in \u001b[0;36mHTTPConnectionPool.urlopen\u001b[0;34m(self, method, url, body, headers, retries, redirect, assert_same_host, timeout, pool_timeout, release_conn, chunked, body_pos, preload_content, decode_content, **response_kw)\u001b[0m\n\u001b[1;32m    788\u001b[0m \u001b[38;5;66;03m# Make the request on the HTTPConnection object\u001b[39;00m\n\u001b[0;32m--> 789\u001b[0m response \u001b[38;5;241m=\u001b[39m \u001b[38;5;28;43mself\u001b[39;49m\u001b[38;5;241;43m.\u001b[39;49m\u001b[43m_make_request\u001b[49m\u001b[43m(\u001b[49m\n\u001b[1;32m    790\u001b[0m \u001b[43m    \u001b[49m\u001b[43mconn\u001b[49m\u001b[43m,\u001b[49m\n\u001b[1;32m    791\u001b[0m \u001b[43m    \u001b[49m\u001b[43mmethod\u001b[49m\u001b[43m,\u001b[49m\n\u001b[1;32m    792\u001b[0m \u001b[43m    \u001b[49m\u001b[43murl\u001b[49m\u001b[43m,\u001b[49m\n\u001b[1;32m    793\u001b[0m \u001b[43m    \u001b[49m\u001b[43mtimeout\u001b[49m\u001b[38;5;241;43m=\u001b[39;49m\u001b[43mtimeout_obj\u001b[49m\u001b[43m,\u001b[49m\n\u001b[1;32m    794\u001b[0m \u001b[43m    \u001b[49m\u001b[43mbody\u001b[49m\u001b[38;5;241;43m=\u001b[39;49m\u001b[43mbody\u001b[49m\u001b[43m,\u001b[49m\n\u001b[1;32m    795\u001b[0m \u001b[43m    \u001b[49m\u001b[43mheaders\u001b[49m\u001b[38;5;241;43m=\u001b[39;49m\u001b[43mheaders\u001b[49m\u001b[43m,\u001b[49m\n\u001b[1;32m    796\u001b[0m \u001b[43m    \u001b[49m\u001b[43mchunked\u001b[49m\u001b[38;5;241;43m=\u001b[39;49m\u001b[43mchunked\u001b[49m\u001b[43m,\u001b[49m\n\u001b[1;32m    797\u001b[0m \u001b[43m    \u001b[49m\u001b[43mretries\u001b[49m\u001b[38;5;241;43m=\u001b[39;49m\u001b[43mretries\u001b[49m\u001b[43m,\u001b[49m\n\u001b[1;32m    798\u001b[0m \u001b[43m    \u001b[49m\u001b[43mresponse_conn\u001b[49m\u001b[38;5;241;43m=\u001b[39;49m\u001b[43mresponse_conn\u001b[49m\u001b[43m,\u001b[49m\n\u001b[1;32m    799\u001b[0m \u001b[43m    \u001b[49m\u001b[43mpreload_content\u001b[49m\u001b[38;5;241;43m=\u001b[39;49m\u001b[43mpreload_content\u001b[49m\u001b[43m,\u001b[49m\n\u001b[1;32m    800\u001b[0m \u001b[43m    \u001b[49m\u001b[43mdecode_content\u001b[49m\u001b[38;5;241;43m=\u001b[39;49m\u001b[43mdecode_content\u001b[49m\u001b[43m,\u001b[49m\n\u001b[1;32m    801\u001b[0m \u001b[43m    \u001b[49m\u001b[38;5;241;43m*\u001b[39;49m\u001b[38;5;241;43m*\u001b[39;49m\u001b[43mresponse_kw\u001b[49m\u001b[43m,\u001b[49m\n\u001b[1;32m    802\u001b[0m \u001b[43m\u001b[49m\u001b[43m)\u001b[49m\n\u001b[1;32m    804\u001b[0m \u001b[38;5;66;03m# Everything went great!\u001b[39;00m\n",
      "File \u001b[0;32m~/Documents/image2transactions/venv/lib/python3.12/site-packages/urllib3/connectionpool.py:490\u001b[0m, in \u001b[0;36mHTTPConnectionPool._make_request\u001b[0;34m(self, conn, method, url, body, headers, retries, timeout, chunked, response_conn, preload_content, decode_content, enforce_content_length)\u001b[0m\n\u001b[1;32m    489\u001b[0m         new_e \u001b[38;5;241m=\u001b[39m _wrap_proxy_error(new_e, conn\u001b[38;5;241m.\u001b[39mproxy\u001b[38;5;241m.\u001b[39mscheme)\n\u001b[0;32m--> 490\u001b[0m     \u001b[38;5;28;01mraise\u001b[39;00m new_e\n\u001b[1;32m    492\u001b[0m \u001b[38;5;66;03m# conn.request() calls http.client.*.request, not the method in\u001b[39;00m\n\u001b[1;32m    493\u001b[0m \u001b[38;5;66;03m# urllib3.request. It also calls makefile (recv) on the socket.\u001b[39;00m\n",
      "File \u001b[0;32m~/Documents/image2transactions/venv/lib/python3.12/site-packages/urllib3/connectionpool.py:466\u001b[0m, in \u001b[0;36mHTTPConnectionPool._make_request\u001b[0;34m(self, conn, method, url, body, headers, retries, timeout, chunked, response_conn, preload_content, decode_content, enforce_content_length)\u001b[0m\n\u001b[1;32m    465\u001b[0m \u001b[38;5;28;01mtry\u001b[39;00m:\n\u001b[0;32m--> 466\u001b[0m     \u001b[38;5;28;43mself\u001b[39;49m\u001b[38;5;241;43m.\u001b[39;49m\u001b[43m_validate_conn\u001b[49m\u001b[43m(\u001b[49m\u001b[43mconn\u001b[49m\u001b[43m)\u001b[49m\n\u001b[1;32m    467\u001b[0m \u001b[38;5;28;01mexcept\u001b[39;00m (SocketTimeout, BaseSSLError) \u001b[38;5;28;01mas\u001b[39;00m e:\n",
      "File \u001b[0;32m~/Documents/image2transactions/venv/lib/python3.12/site-packages/urllib3/connectionpool.py:1095\u001b[0m, in \u001b[0;36mHTTPSConnectionPool._validate_conn\u001b[0;34m(self, conn)\u001b[0m\n\u001b[1;32m   1094\u001b[0m \u001b[38;5;28;01mif\u001b[39;00m conn\u001b[38;5;241m.\u001b[39mis_closed:\n\u001b[0;32m-> 1095\u001b[0m     \u001b[43mconn\u001b[49m\u001b[38;5;241;43m.\u001b[39;49m\u001b[43mconnect\u001b[49m\u001b[43m(\u001b[49m\u001b[43m)\u001b[49m\n\u001b[1;32m   1097\u001b[0m \u001b[38;5;66;03m# TODO revise this, see https://github.com/urllib3/urllib3/issues/2791\u001b[39;00m\n",
      "File \u001b[0;32m~/Documents/image2transactions/venv/lib/python3.12/site-packages/urllib3/connection.py:615\u001b[0m, in \u001b[0;36mHTTPSConnection.connect\u001b[0;34m(self)\u001b[0m\n\u001b[1;32m    614\u001b[0m sock: socket\u001b[38;5;241m.\u001b[39msocket \u001b[38;5;241m|\u001b[39m ssl\u001b[38;5;241m.\u001b[39mSSLSocket\n\u001b[0;32m--> 615\u001b[0m \u001b[38;5;28mself\u001b[39m\u001b[38;5;241m.\u001b[39msock \u001b[38;5;241m=\u001b[39m sock \u001b[38;5;241m=\u001b[39m \u001b[38;5;28;43mself\u001b[39;49m\u001b[38;5;241;43m.\u001b[39;49m\u001b[43m_new_conn\u001b[49m\u001b[43m(\u001b[49m\u001b[43m)\u001b[49m\n\u001b[1;32m    616\u001b[0m server_hostname: \u001b[38;5;28mstr\u001b[39m \u001b[38;5;241m=\u001b[39m \u001b[38;5;28mself\u001b[39m\u001b[38;5;241m.\u001b[39mhost\n",
      "File \u001b[0;32m~/Documents/image2transactions/venv/lib/python3.12/site-packages/urllib3/connection.py:211\u001b[0m, in \u001b[0;36mHTTPConnection._new_conn\u001b[0;34m(self)\u001b[0m\n\u001b[1;32m    210\u001b[0m \u001b[38;5;28;01mexcept\u001b[39;00m \u001b[38;5;167;01mOSError\u001b[39;00m \u001b[38;5;28;01mas\u001b[39;00m e:\n\u001b[0;32m--> 211\u001b[0m     \u001b[38;5;28;01mraise\u001b[39;00m NewConnectionError(\n\u001b[1;32m    212\u001b[0m         \u001b[38;5;28mself\u001b[39m, \u001b[38;5;124mf\u001b[39m\u001b[38;5;124m\"\u001b[39m\u001b[38;5;124mFailed to establish a new connection: \u001b[39m\u001b[38;5;132;01m{\u001b[39;00me\u001b[38;5;132;01m}\u001b[39;00m\u001b[38;5;124m\"\u001b[39m\n\u001b[1;32m    213\u001b[0m     ) \u001b[38;5;28;01mfrom\u001b[39;00m \u001b[38;5;21;01me\u001b[39;00m\n\u001b[1;32m    215\u001b[0m \u001b[38;5;66;03m# Audit hooks are only available in Python 3.8+\u001b[39;00m\n",
      "\u001b[0;31mNewConnectionError\u001b[0m: <urllib3.connection.HTTPSConnection object at 0x1147db230>: Failed to establish a new connection: [Errno 61] Connection refused",
      "\nDuring handling of the above exception, another exception occurred:\n",
      "\u001b[0;31mConnectionError\u001b[0m                           Traceback (most recent call last)",
      "Cell \u001b[0;32mIn[4], line 60\u001b[0m\n\u001b[1;32m      1\u001b[0m june \u001b[38;5;241m=\u001b[39m {\n\u001b[1;32m      2\u001b[0m     \u001b[38;5;124m\"\u001b[39m\u001b[38;5;124mMCDONALD\u001b[39m\u001b[38;5;124m'\u001b[39m\u001b[38;5;124mS\u001b[39m\u001b[38;5;124m\"\u001b[39m: {\u001b[38;5;124m\"\u001b[39m\u001b[38;5;124mday\u001b[39m\u001b[38;5;124m\"\u001b[39m: \u001b[38;5;124m\"\u001b[39m\u001b[38;5;124m07\u001b[39m\u001b[38;5;124m\"\u001b[39m, \u001b[38;5;124m\"\u001b[39m\u001b[38;5;124mamount\u001b[39m\u001b[38;5;124m\"\u001b[39m: \u001b[38;5;124m\"\u001b[39m\u001b[38;5;124m6.51\u001b[39m\u001b[38;5;124m\"\u001b[39m, \u001b[38;5;124m\"\u001b[39m\u001b[38;5;124mfrom_account\u001b[39m\u001b[38;5;124m\"\u001b[39m: \u001b[38;5;124m\"\u001b[39m\u001b[38;5;124mAssets:Discover:Main:Wants:Other\u001b[39m\u001b[38;5;124m\"\u001b[39m},\n\u001b[1;32m      3\u001b[0m     \u001b[38;5;124m\"\u001b[39m\u001b[38;5;124mMAD MAX TICKETS\u001b[39m\u001b[38;5;124m\"\u001b[39m: {\u001b[38;5;124m\"\u001b[39m\u001b[38;5;124mday\u001b[39m\u001b[38;5;124m\"\u001b[39m: \u001b[38;5;124m\"\u001b[39m\u001b[38;5;124m07\u001b[39m\u001b[38;5;124m\"\u001b[39m, \u001b[38;5;124m\"\u001b[39m\u001b[38;5;124mamount\u001b[39m\u001b[38;5;124m\"\u001b[39m: \u001b[38;5;124m\"\u001b[39m\u001b[38;5;124m28.46\u001b[39m\u001b[38;5;124m\"\u001b[39m, \u001b[38;5;124m\"\u001b[39m\u001b[38;5;124mfrom_account\u001b[39m\u001b[38;5;124m\"\u001b[39m: \u001b[38;5;124m\"\u001b[39m\u001b[38;5;124mAssets:Discover:Main:Wants:Other\u001b[39m\u001b[38;5;124m\"\u001b[39m},\n\u001b[0;32m   (...)\u001b[0m\n\u001b[1;32m     15\u001b[0m     \u001b[38;5;124m\"\u001b[39m\u001b[38;5;124mAMAZON HBO\u001b[39m\u001b[38;5;124m\"\u001b[39m: {\u001b[38;5;124m\"\u001b[39m\u001b[38;5;124mday\u001b[39m\u001b[38;5;124m\"\u001b[39m: \u001b[38;5;124m\"\u001b[39m\u001b[38;5;124m22\u001b[39m\u001b[38;5;124m\"\u001b[39m, \u001b[38;5;124m\"\u001b[39m\u001b[38;5;124mamount\u001b[39m\u001b[38;5;124m\"\u001b[39m: \u001b[38;5;124m\"\u001b[39m\u001b[38;5;124m10.69\u001b[39m\u001b[38;5;124m\"\u001b[39m, \u001b[38;5;124m\"\u001b[39m\u001b[38;5;124mfrom_account\u001b[39m\u001b[38;5;124m\"\u001b[39m: \u001b[38;5;124m\"\u001b[39m\u001b[38;5;124mAssets:Discover:Main:Wants:Monthly\u001b[39m\u001b[38;5;124m\"\u001b[39m}\n\u001b[1;32m     16\u001b[0m }\n\u001b[1;32m     18\u001b[0m may \u001b[38;5;241m=\u001b[39m {\n\u001b[1;32m     19\u001b[0m     \u001b[38;5;124m\"\u001b[39m\u001b[38;5;124mMIYABI 9\u001b[39m\u001b[38;5;124m\"\u001b[39m: {\u001b[38;5;124m\"\u001b[39m\u001b[38;5;124mday\u001b[39m\u001b[38;5;124m\"\u001b[39m: \u001b[38;5;124m\"\u001b[39m\u001b[38;5;124m04\u001b[39m\u001b[38;5;124m\"\u001b[39m, \u001b[38;5;124m\"\u001b[39m\u001b[38;5;124mamount\u001b[39m\u001b[38;5;124m\"\u001b[39m: \u001b[38;5;124m\"\u001b[39m\u001b[38;5;124m70\u001b[39m\u001b[38;5;124m\"\u001b[39m, \u001b[38;5;124m\"\u001b[39m\u001b[38;5;124mfrom_account\u001b[39m\u001b[38;5;124m\"\u001b[39m: \u001b[38;5;124m\"\u001b[39m\u001b[38;5;124mAssets:Discover:Main:Wants:Other\u001b[39m\u001b[38;5;124m\"\u001b[39m},\n\u001b[1;32m     20\u001b[0m     \u001b[38;5;124m\"\u001b[39m\u001b[38;5;124mDSM PARKING\u001b[39m\u001b[38;5;124m\"\u001b[39m: {\u001b[38;5;124m\"\u001b[39m\u001b[38;5;124mday\u001b[39m\u001b[38;5;124m\"\u001b[39m: \u001b[38;5;124m\"\u001b[39m\u001b[38;5;124m04\u001b[39m\u001b[38;5;124m\"\u001b[39m, \u001b[38;5;124m\"\u001b[39m\u001b[38;5;124mamount\u001b[39m\u001b[38;5;124m\"\u001b[39m: \u001b[38;5;124m\"\u001b[39m\u001b[38;5;124m1.25\u001b[39m\u001b[38;5;124m\"\u001b[39m, \u001b[38;5;124m\"\u001b[39m\u001b[38;5;124mfrom_account\u001b[39m\u001b[38;5;124m\"\u001b[39m: \u001b[38;5;124m\"\u001b[39m\u001b[38;5;124mAssets:Discover:Main:Wants:Other\u001b[39m\u001b[38;5;124m\"\u001b[39m},\n\u001b[0;32m   (...)\u001b[0m\n\u001b[1;32m     57\u001b[0m     \u001b[38;5;124m\"\u001b[39m\u001b[38;5;124mWALMART GROCERIES\u001b[39m\u001b[38;5;124m\"\u001b[39m: {\u001b[38;5;124m\"\u001b[39m\u001b[38;5;124mday\u001b[39m\u001b[38;5;124m\"\u001b[39m: \u001b[38;5;124m\"\u001b[39m\u001b[38;5;124m04\u001b[39m\u001b[38;5;124m\"\u001b[39m, \u001b[38;5;124m\"\u001b[39m\u001b[38;5;124mamount\u001b[39m\u001b[38;5;124m\"\u001b[39m: \u001b[38;5;124m\"\u001b[39m\u001b[38;5;124m17.95\u001b[39m\u001b[38;5;124m\"\u001b[39m, \u001b[38;5;124m\"\u001b[39m\u001b[38;5;124mfrom_account\u001b[39m\u001b[38;5;124m\"\u001b[39m: \u001b[38;5;124m\"\u001b[39m\u001b[38;5;124mAssets:Discover:Main:Needs:Groceries\u001b[39m\u001b[38;5;124m\"\u001b[39m}\n\u001b[1;32m     58\u001b[0m }\n\u001b[0;32m---> 60\u001b[0m \u001b[43madd_index\u001b[49m\u001b[43m(\u001b[49m\u001b[43mclient\u001b[49m\u001b[43m,\u001b[49m\u001b[43m \u001b[49m\u001b[43mindex_name\u001b[49m\u001b[43m)\u001b[49m\n\u001b[1;32m     61\u001b[0m add_documents(client, index_name, [may, june])\n",
      "File \u001b[0;32m~/Documents/image2transactions/src/opensearch/upload.py:6\u001b[0m, in \u001b[0;36madd_index\u001b[0;34m(client, index_name)\u001b[0m\n\u001b[1;32m      5\u001b[0m \u001b[38;5;28;01mdef\u001b[39;00m \u001b[38;5;21madd_index\u001b[39m(client: OpenSearch, index_name: \u001b[38;5;28mstr\u001b[39m) \u001b[38;5;241m-\u001b[39m\u001b[38;5;241m>\u001b[39m \u001b[38;5;28;01mNone\u001b[39;00m:\n\u001b[0;32m----> 6\u001b[0m     \u001b[43mclient\u001b[49m\u001b[38;5;241;43m.\u001b[39;49m\u001b[43mindices\u001b[49m\u001b[38;5;241;43m.\u001b[39;49m\u001b[43mcreate\u001b[49m\u001b[43m(\u001b[49m\n\u001b[1;32m      7\u001b[0m \u001b[43m        \u001b[49m\u001b[43mindex_name\u001b[49m\u001b[43m,\u001b[49m\n\u001b[1;32m      8\u001b[0m \u001b[43m        \u001b[49m\u001b[43mbody\u001b[49m\u001b[38;5;241;43m=\u001b[39;49m\u001b[43m{\u001b[49m\n\u001b[1;32m      9\u001b[0m \u001b[43m            \u001b[49m\u001b[38;5;124;43m\"\u001b[39;49m\u001b[38;5;124;43msettings\u001b[39;49m\u001b[38;5;124;43m\"\u001b[39;49m\u001b[43m:\u001b[49m\u001b[43m \u001b[49m\u001b[43m{\u001b[49m\u001b[38;5;124;43m\"\u001b[39;49m\u001b[38;5;124;43mindex\u001b[39;49m\u001b[38;5;124;43m\"\u001b[39;49m\u001b[43m:\u001b[49m\u001b[43m \u001b[49m\u001b[43m{\u001b[49m\u001b[38;5;124;43m\"\u001b[39;49m\u001b[38;5;124;43mnumber_of_shards\u001b[39;49m\u001b[38;5;124;43m\"\u001b[39;49m\u001b[43m:\u001b[49m\u001b[43m \u001b[49m\u001b[38;5;241;43m1\u001b[39;49m\u001b[43m}\u001b[49m\u001b[43m}\u001b[49m\u001b[43m,\u001b[49m\n\u001b[1;32m     10\u001b[0m \u001b[43m            \u001b[49m\u001b[38;5;124;43m\"\u001b[39;49m\u001b[38;5;124;43mmappings\u001b[39;49m\u001b[38;5;124;43m\"\u001b[39;49m\u001b[43m:\u001b[49m\u001b[43m \u001b[49m\u001b[43m{\u001b[49m\n\u001b[1;32m     11\u001b[0m \u001b[43m                \u001b[49m\u001b[38;5;124;43m\"\u001b[39;49m\u001b[38;5;124;43mproperties\u001b[39;49m\u001b[38;5;124;43m\"\u001b[39;49m\u001b[43m:\u001b[49m\u001b[43m \u001b[49m\u001b[43m{\u001b[49m\n\u001b[1;32m     12\u001b[0m \u001b[43m                    \u001b[49m\u001b[38;5;124;43m\"\u001b[39;49m\u001b[38;5;124;43mvendor\u001b[39;49m\u001b[38;5;124;43m\"\u001b[39;49m\u001b[43m:\u001b[49m\u001b[43m \u001b[49m\u001b[43m{\u001b[49m\u001b[38;5;124;43m\"\u001b[39;49m\u001b[38;5;124;43mtype\u001b[39;49m\u001b[38;5;124;43m\"\u001b[39;49m\u001b[43m:\u001b[49m\u001b[43m \u001b[49m\u001b[38;5;124;43m\"\u001b[39;49m\u001b[38;5;124;43mtext\u001b[39;49m\u001b[38;5;124;43m\"\u001b[39;49m\u001b[43m}\u001b[49m\u001b[43m,\u001b[49m\n\u001b[1;32m     13\u001b[0m \u001b[43m                    \u001b[49m\u001b[38;5;124;43m\"\u001b[39;49m\u001b[38;5;124;43mday\u001b[39;49m\u001b[38;5;124;43m\"\u001b[39;49m\u001b[43m:\u001b[49m\u001b[43m \u001b[49m\u001b[43m{\u001b[49m\u001b[38;5;124;43m\"\u001b[39;49m\u001b[38;5;124;43mtype\u001b[39;49m\u001b[38;5;124;43m\"\u001b[39;49m\u001b[43m:\u001b[49m\u001b[43m \u001b[49m\u001b[38;5;124;43m\"\u001b[39;49m\u001b[38;5;124;43mtext\u001b[39;49m\u001b[38;5;124;43m\"\u001b[39;49m\u001b[43m}\u001b[49m\u001b[43m,\u001b[49m\n\u001b[1;32m     14\u001b[0m \u001b[43m                    \u001b[49m\u001b[38;5;124;43m\"\u001b[39;49m\u001b[38;5;124;43mamount\u001b[39;49m\u001b[38;5;124;43m\"\u001b[39;49m\u001b[43m:\u001b[49m\u001b[43m \u001b[49m\u001b[43m{\u001b[49m\u001b[38;5;124;43m\"\u001b[39;49m\u001b[38;5;124;43mtype\u001b[39;49m\u001b[38;5;124;43m\"\u001b[39;49m\u001b[43m:\u001b[49m\u001b[43m \u001b[49m\u001b[38;5;124;43m\"\u001b[39;49m\u001b[38;5;124;43mfloat\u001b[39;49m\u001b[38;5;124;43m\"\u001b[39;49m\u001b[43m}\u001b[49m\u001b[43m,\u001b[49m\n\u001b[1;32m     15\u001b[0m \u001b[43m                    \u001b[49m\u001b[38;5;124;43m\"\u001b[39;49m\u001b[38;5;124;43mfrom_account\u001b[39;49m\u001b[38;5;124;43m\"\u001b[39;49m\u001b[43m:\u001b[49m\u001b[43m \u001b[49m\u001b[43m{\u001b[49m\u001b[38;5;124;43m\"\u001b[39;49m\u001b[38;5;124;43mtype\u001b[39;49m\u001b[38;5;124;43m\"\u001b[39;49m\u001b[43m:\u001b[49m\u001b[43m \u001b[49m\u001b[38;5;124;43m\"\u001b[39;49m\u001b[38;5;124;43mtext\u001b[39;49m\u001b[38;5;124;43m\"\u001b[39;49m\u001b[43m}\u001b[49m\u001b[43m,\u001b[49m\n\u001b[1;32m     16\u001b[0m \u001b[43m                \u001b[49m\u001b[43m}\u001b[49m\n\u001b[1;32m     17\u001b[0m \u001b[43m            \u001b[49m\u001b[43m}\u001b[49m\u001b[43m,\u001b[49m\n\u001b[1;32m     18\u001b[0m \u001b[43m        \u001b[49m\u001b[43m}\u001b[49m\u001b[43m,\u001b[49m\n\u001b[1;32m     19\u001b[0m \u001b[43m    \u001b[49m\u001b[43m)\u001b[49m\n",
      "File \u001b[0;32m~/Documents/image2transactions/venv/lib/python3.12/site-packages/opensearchpy/client/utils.py:180\u001b[0m, in \u001b[0;36mquery_params.<locals>._wrapper.<locals>._wrapped\u001b[0;34m(*args, **kwargs)\u001b[0m\n\u001b[1;32m    177\u001b[0m         \u001b[38;5;28;01mif\u001b[39;00m v \u001b[38;5;129;01mis\u001b[39;00m \u001b[38;5;129;01mnot\u001b[39;00m \u001b[38;5;28;01mNone\u001b[39;00m:\n\u001b[1;32m    178\u001b[0m             params[p] \u001b[38;5;241m=\u001b[39m _escape(v)\n\u001b[0;32m--> 180\u001b[0m \u001b[38;5;28;01mreturn\u001b[39;00m \u001b[43mfunc\u001b[49m\u001b[43m(\u001b[49m\u001b[38;5;241;43m*\u001b[39;49m\u001b[43margs\u001b[49m\u001b[43m,\u001b[49m\u001b[43m \u001b[49m\u001b[43mparams\u001b[49m\u001b[38;5;241;43m=\u001b[39;49m\u001b[43mparams\u001b[49m\u001b[43m,\u001b[49m\u001b[43m \u001b[49m\u001b[43mheaders\u001b[49m\u001b[38;5;241;43m=\u001b[39;49m\u001b[43mheaders\u001b[49m\u001b[43m,\u001b[49m\u001b[43m \u001b[49m\u001b[38;5;241;43m*\u001b[39;49m\u001b[38;5;241;43m*\u001b[39;49m\u001b[43mkwargs\u001b[49m\u001b[43m)\u001b[49m\n",
      "File \u001b[0;32m~/Documents/image2transactions/venv/lib/python3.12/site-packages/opensearchpy/client/indices.py:236\u001b[0m, in \u001b[0;36mIndicesClient.create\u001b[0;34m(self, index, body, params, headers)\u001b[0m\n\u001b[1;32m    233\u001b[0m \u001b[38;5;28;01mif\u001b[39;00m index \u001b[38;5;129;01min\u001b[39;00m SKIP_IN_PATH:\n\u001b[1;32m    234\u001b[0m     \u001b[38;5;28;01mraise\u001b[39;00m \u001b[38;5;167;01mValueError\u001b[39;00m(\u001b[38;5;124m\"\u001b[39m\u001b[38;5;124mEmpty value passed for a required argument \u001b[39m\u001b[38;5;124m'\u001b[39m\u001b[38;5;124mindex\u001b[39m\u001b[38;5;124m'\u001b[39m\u001b[38;5;124m.\u001b[39m\u001b[38;5;124m\"\u001b[39m)\n\u001b[0;32m--> 236\u001b[0m \u001b[38;5;28;01mreturn\u001b[39;00m \u001b[38;5;28;43mself\u001b[39;49m\u001b[38;5;241;43m.\u001b[39;49m\u001b[43mtransport\u001b[49m\u001b[38;5;241;43m.\u001b[39;49m\u001b[43mperform_request\u001b[49m\u001b[43m(\u001b[49m\n\u001b[1;32m    237\u001b[0m \u001b[43m    \u001b[49m\u001b[38;5;124;43m\"\u001b[39;49m\u001b[38;5;124;43mPUT\u001b[39;49m\u001b[38;5;124;43m\"\u001b[39;49m\u001b[43m,\u001b[49m\u001b[43m \u001b[49m\u001b[43m_make_path\u001b[49m\u001b[43m(\u001b[49m\u001b[43mindex\u001b[49m\u001b[43m)\u001b[49m\u001b[43m,\u001b[49m\u001b[43m \u001b[49m\u001b[43mparams\u001b[49m\u001b[38;5;241;43m=\u001b[39;49m\u001b[43mparams\u001b[49m\u001b[43m,\u001b[49m\u001b[43m \u001b[49m\u001b[43mheaders\u001b[49m\u001b[38;5;241;43m=\u001b[39;49m\u001b[43mheaders\u001b[49m\u001b[43m,\u001b[49m\u001b[43m \u001b[49m\u001b[43mbody\u001b[49m\u001b[38;5;241;43m=\u001b[39;49m\u001b[43mbody\u001b[49m\n\u001b[1;32m    238\u001b[0m \u001b[43m\u001b[49m\u001b[43m)\u001b[49m\n",
      "File \u001b[0;32m~/Documents/image2transactions/venv/lib/python3.12/site-packages/opensearchpy/transport.py:453\u001b[0m, in \u001b[0;36mTransport.perform_request\u001b[0;34m(self, method, url, params, body, timeout, ignore, headers)\u001b[0m\n\u001b[1;32m    451\u001b[0m     \u001b[38;5;66;03m# raise exception on last retry\u001b[39;00m\n\u001b[1;32m    452\u001b[0m     \u001b[38;5;28;01mif\u001b[39;00m attempt \u001b[38;5;241m==\u001b[39m \u001b[38;5;28mself\u001b[39m\u001b[38;5;241m.\u001b[39mmax_retries:\n\u001b[0;32m--> 453\u001b[0m         \u001b[38;5;28;01mraise\u001b[39;00m e\n\u001b[1;32m    454\u001b[0m \u001b[38;5;28;01melse\u001b[39;00m:\n\u001b[1;32m    455\u001b[0m     \u001b[38;5;28;01mraise\u001b[39;00m e\n",
      "File \u001b[0;32m~/Documents/image2transactions/venv/lib/python3.12/site-packages/opensearchpy/transport.py:416\u001b[0m, in \u001b[0;36mTransport.perform_request\u001b[0;34m(self, method, url, params, body, timeout, ignore, headers)\u001b[0m\n\u001b[1;32m    413\u001b[0m connection \u001b[38;5;241m=\u001b[39m \u001b[38;5;28mself\u001b[39m\u001b[38;5;241m.\u001b[39mget_connection()\n\u001b[1;32m    415\u001b[0m \u001b[38;5;28;01mtry\u001b[39;00m:\n\u001b[0;32m--> 416\u001b[0m     status, headers_response, data \u001b[38;5;241m=\u001b[39m \u001b[43mconnection\u001b[49m\u001b[38;5;241;43m.\u001b[39;49m\u001b[43mperform_request\u001b[49m\u001b[43m(\u001b[49m\n\u001b[1;32m    417\u001b[0m \u001b[43m        \u001b[49m\u001b[43mmethod\u001b[49m\u001b[43m,\u001b[49m\n\u001b[1;32m    418\u001b[0m \u001b[43m        \u001b[49m\u001b[43murl\u001b[49m\u001b[43m,\u001b[49m\n\u001b[1;32m    419\u001b[0m \u001b[43m        \u001b[49m\u001b[43mparams\u001b[49m\u001b[43m,\u001b[49m\n\u001b[1;32m    420\u001b[0m \u001b[43m        \u001b[49m\u001b[43mbody\u001b[49m\u001b[43m,\u001b[49m\n\u001b[1;32m    421\u001b[0m \u001b[43m        \u001b[49m\u001b[43mheaders\u001b[49m\u001b[38;5;241;43m=\u001b[39;49m\u001b[43mheaders\u001b[49m\u001b[43m,\u001b[49m\n\u001b[1;32m    422\u001b[0m \u001b[43m        \u001b[49m\u001b[43mignore\u001b[49m\u001b[38;5;241;43m=\u001b[39;49m\u001b[43mignore\u001b[49m\u001b[43m,\u001b[49m\n\u001b[1;32m    423\u001b[0m \u001b[43m        \u001b[49m\u001b[43mtimeout\u001b[49m\u001b[38;5;241;43m=\u001b[39;49m\u001b[43mtimeout\u001b[49m\u001b[43m,\u001b[49m\n\u001b[1;32m    424\u001b[0m \u001b[43m    \u001b[49m\u001b[43m)\u001b[49m\n\u001b[1;32m    426\u001b[0m     \u001b[38;5;66;03m# Lowercase all the header names for consistency in accessing them.\u001b[39;00m\n\u001b[1;32m    427\u001b[0m     headers_response \u001b[38;5;241m=\u001b[39m {\n\u001b[1;32m    428\u001b[0m         header\u001b[38;5;241m.\u001b[39mlower(): value \u001b[38;5;28;01mfor\u001b[39;00m header, value \u001b[38;5;129;01min\u001b[39;00m headers_response\u001b[38;5;241m.\u001b[39mitems()\n\u001b[1;32m    429\u001b[0m     }\n",
      "File \u001b[0;32m~/Documents/image2transactions/venv/lib/python3.12/site-packages/opensearchpy/connection/http_urllib3.py:295\u001b[0m, in \u001b[0;36mUrllib3HttpConnection.perform_request\u001b[0;34m(self, method, url, params, body, timeout, ignore, headers)\u001b[0m\n\u001b[1;32m    293\u001b[0m     \u001b[38;5;28;01mif\u001b[39;00m \u001b[38;5;28misinstance\u001b[39m(e, ReadTimeoutError):\n\u001b[1;32m    294\u001b[0m         \u001b[38;5;28;01mraise\u001b[39;00m ConnectionTimeout(\u001b[38;5;124m\"\u001b[39m\u001b[38;5;124mTIMEOUT\u001b[39m\u001b[38;5;124m\"\u001b[39m, \u001b[38;5;28mstr\u001b[39m(e), e)\n\u001b[0;32m--> 295\u001b[0m     \u001b[38;5;28;01mraise\u001b[39;00m \u001b[38;5;167;01mConnectionError\u001b[39;00m(\u001b[38;5;124m\"\u001b[39m\u001b[38;5;124mN/A\u001b[39m\u001b[38;5;124m\"\u001b[39m, \u001b[38;5;28mstr\u001b[39m(e), e)\n\u001b[1;32m    296\u001b[0m \u001b[38;5;28;01mfinally\u001b[39;00m:\n\u001b[1;32m    297\u001b[0m     \u001b[38;5;28mself\u001b[39m\u001b[38;5;241m.\u001b[39mmetrics\u001b[38;5;241m.\u001b[39mrequest_end()\n",
      "\u001b[0;31mConnectionError\u001b[0m: ConnectionError(<urllib3.connection.HTTPSConnection object at 0x1147db230>: Failed to establish a new connection: [Errno 61] Connection refused) caused by: NewConnectionError(<urllib3.connection.HTTPSConnection object at 0x1147db230>: Failed to establish a new connection: [Errno 61] Connection refused)"
     ]
    }
   ],
   "source": [
    "june = {\n",
    "    \"MCDONALD'S\": {\"day\": \"07\", \"amount\": \"6.51\", \"from_account\": \"Assets:Discover:Main:Wants:Other\"},\n",
    "    \"MAD MAX TICKETS\": {\"day\": \"07\", \"amount\": \"28.46\", \"from_account\": \"Assets:Discover:Main:Wants:Other\"},\n",
    "    \"SQ BERNARDOS BURRITOS\": {\"day\": \"08\", \"amount\": \"11.22\", \"from_account\": \"Assets:Discover:Main:Wants:Other\"},\n",
    "    \"SPOTIFY\": {\"day\": \"09\", \"amount\": \"11.76\", \"from_account\": \"Assets:Discover:Main:Wants:Monthly\"},\n",
    "    \"WALMART STORE\": {\"day\": \"18\", \"amount\": \"63.39\", \"from_account\": \"Assets:Discover:Main:Needs:Groceries\"},\n",
    "    \"CASEYS\": {\"day\": \"12\", \"amount\": \"38.72\", \"from_account\": \"Assets:Discover:Main:Needs:Gas\"},\n",
    "    \"PANCHEROS\": {\"day\": \"13\", \"amount\": \"11.56\", \"from_account\": \"Assets:Discover:Main:Wants:Other\"},\n",
    "    \"TST DES MOINES BEER\": {\"day\": \"14\", \"amount\": \"40.26\", \"from_account\": \"Assets:Discover:Main:Wants:Other\"},\n",
    "    \"QUANTUM FIBER\": {\"day\": \"15\", \"amount\": \"85.00\", \"from_account\": \"Assets:Discover:Main:Needs:Monthly\"},\n",
    "    \"TST CHOWRASTHA INDIAN\": {\"day\": \"16\", \"amount\": \"41.20\", \"from_account\": \"Assets:Discover:Main:Wants:Other\"},\n",
    "    \"JIMMY JOHNS\": {\"day\": \"16\", \"amount\": \"22.18\", \"from_account\": \"Assets:Discover:Main:Wants:Other\"},\n",
    "    \"AMAZON.COM CEREAL FOR DAD\": {\"day\": \"17\", \"amount\": \"12.12\", \"from_account\": \"Assets:Discover:Main:Wants:Other\"},\n",
    "    \"HABENEROS MEXICAN\": {\"day\": \"21\", \"amount\": \"40.00\", \"from_account\": \"Assets:Discover:Main:Wants:Other\"},\n",
    "    \"AMAZON HBO\": {\"day\": \"22\", \"amount\": \"10.69\", \"from_account\": \"Assets:Discover:Main:Wants:Monthly\"}\n",
    "}\n",
    "\n",
    "may = {\n",
    "    \"MIYABI 9\": {\"day\": \"04\", \"amount\": \"70\", \"from_account\": \"Assets:Discover:Main:Wants:Other\"},\n",
    "    \"DSM PARKING\": {\"day\": \"04\", \"amount\": \"1.25\", \"from_account\": \"Assets:Discover:Main:Wants:Other\"},\n",
    "    \"CHATGPT\": {\"day\": \"04\", \"amount\": \"20\", \"from_account\": \"Assets:Discover:Main:Wants:Monthly\"},\n",
    "    \"AMAZON PRIME\": {\"day\": \"04\", \"amount\": \"16.04\", \"from_account\": \"Assets:Discover:Main:Needs:Monthly\"},\n",
    "    \"QDOBA\": {\"day\": \"06\", \"amount\": \"22.04\", \"from_account\": \"Assets:Discover:Main:Wants:Other\"},\n",
    "    \"WALMART\": {\"day\": \"07\", \"amount\": \"66.96\", \"from_account\": \"Assets:Discover:Main:Needs:Groceries\"},\n",
    "    \"CULVERS\": {\"day\": \"07\", \"amount\": \"13.95\", \"from_account\": \"Assets:Discover:Main:Wants:Other\"},\n",
    "    \"MAD MEATBALL\": {\"day\": \"09\", \"amount\": \"16\", \"from_account\": \"Assets:Discover:Main:Wants:Other\"},\n",
    "    \"SPOTIFY\": {\"day\": \"09\", \"amount\": \"11.76\", \"from_account\": \"Assets:Discover:Main:Wants:Monthly\"},\n",
    "    \"LUA THC DRINKS\": {\"day\": \"10\", \"amount\": \"28.87\", \"from_account\": \"Assets:Discover:Main:Wants:Other\"},\n",
    "    \"JIMMY JOHNS\": {\"day\": \"10\", \"amount\": \"22.18\", \"from_account\": \"Assets:Discover:Main:Wants:Other\"},\n",
    "    \"ADIDAS SHOES\": {\"day\": \"11\", \"amount\": \"115.33\", \"from_account\": \"Assets:Discover:FutureWants\"},\n",
    "    \"AMAZON EMILY GRAD GIFT\": {\"day\": \"12\", \"amount\": \"109.50\", \"from_account\": \"Assets:Discover:FutureWants\"},\n",
    "    \"DOMINOS\": {\"day\": \"12\", \"amount\": \"17.86\", \"from_account\": \"Assets:Discover:Main:Wants:Other\"},\n",
    "    \"WALMART GROCERIES\": {\"day\": \"14\", \"amount\": \"49.02\", \"from_account\": \"Assets:Discover:Main:Needs:Groceries\"},\n",
    "    \"TARGET EMILY GRAD GIFT FILM\": {\"day\": \"14\", \"amount\": \"13.90\", \"from_account\": \"Assets:Discover:FutureWants\"},\n",
    "    \"INTERNET BILL\": {\"day\": \"15\", \"amount\": \"85\", \"from_account\": \"Assets:Discover:Main:Needs:Monthly\"},\n",
    "    \"AMAZON EMILY GRAD GIFT FILM\": {\"day\": \"15\", \"amount\": \"29.92\", \"from_account\": \"Assets:Discover:FutureWants\"},\n",
    "    \"DESPENSARY\": {\"day\": \"17\", \"amount\": \"21.40\", \"from_account\": \"Assets:Discover:Main:Wants:Other\"},\n",
    "    \"PANCHEROS\": {\"day\": \"17\", \"amount\": \"23.11\", \"from_account\": \"Assets:Discover:Main:Wants:Other\"},\n",
    "    \"BP DRINKS\": {\"day\": \"19\", \"amount\": \"6.07\", \"from_account\": \"Assets:Discover:Main:Wants:Other\"},\n",
    "    \"WALMART GROCERIES\": {\"day\": \"21\", \"amount\": \"37.86\", \"from_account\": \"Assets:Discover:Main:Needs:Groceries\"},\n",
    "    \"GAS FROM SAMS\": {\"day\": \"21\", \"amount\": \"38.04\", \"from\": \"Assets:Discover:Main:Needs:Gas\"},\n",
    "    \"SAMS GROCERIES\": {\"day\": \"21\", \"amount\": \"84.57\", \"from_account\": \"Assets:Discover:Main:Needs:Groceries\"},\n",
    "    \"PALMERS LUNCH\": {\"day\": \"21\", \"amount\": \"21.06\", \"from_account\": \"Assets:Discover:Main:Wants:Other\"},\n",
    "    \"AMAZON PRIME HBO MAX\": {\"day\": \"22\", \"amount\": \"10.69\", \"from_account\": \"Assets:Discover:Main:Wants:Monthly\"},\n",
    "    \"CHIPOTLE\": {\"day\": \"27\", \"amount\": \"24.98\", \"from_account\": \"Assets:Discover:Main:Wants:Other\"},\n",
    "    \"OBSIDIAN\": {\"day\": \"27\", \"amount\": \"10\", \"from_account\": \"Assets:Discover:Main:Wants:Monthly\"},\n",
    "    \"BEER GARDEN\": {\"day\": \"31\", \"amount\": \"39.04\", \"from_account\": \"Assets:Discover:Main:Wants:Other\"},\n",
    "    \"DOMINOS\": {\"day\": \"31\", \"amount\": \"26.55\", \"from_account\": \"Assets:Discover:Main:Wants:Other\"},\n",
    "    \"WALMART ALLERGY MEDS\": {\"day\": \"01\", \"amount\": \"48.26\", \"from_account\": \"Assets:Discover:Main:Needs:Groceries\"},\n",
    "    \"GOOGLE GSUITE\": {\"day\": \"01\", \"amount\": \"12.84\", \"from_account\": \"Assets:Discover:Main:Wants:Monthly\"},\n",
    "    \"AWS BILL\": {\"day\": \"02\", \"amount\": \"2.89\", \"from_account\": \"Assets:Discover:Main:Wants:Monthly\"},\n",
    "    \"INDYCAR TICKETS\": {\"day\": \"02\", \"amount\": \"308\", \"from_account\": \"Assets:Discover:FutureWants\"},\n",
    "    \"AMAZON HOUSE UTILITIES\": {\"day\": \"02\", \"amount\": \"76.01\", \"from_account\": \"Assets:Discover:Furniture\"},\n",
    "    \"AMAZON PRIME\": {\"day\": \"04\", \"amount\": \"16.04\", \"from_account\": \"Assets:Discover:Main:Needs:Monthly\"},\n",
    "    \"CHICK FIL A\": {\"day\": \"04\", \"amount\": \"11.97\", \"from_account\": \"Assets:Discover:Main:Wants:Other\"},\n",
    "    \"CHATGPT SUBSCRIPTION\": {\"day\": \"04\", \"amount\": \"20\", \"from_account\": \"Assets:Discover:Main:Wants:Monthly\"},\n",
    "    \"WALMART GROCERIES\": {\"day\": \"04\", \"amount\": \"17.95\", \"from_account\": \"Assets:Discover:Main:Needs:Groceries\"}\n",
    "}\n",
    "\n",
    "add_index(client, index_name)\n",
    "add_documents(client, index_name, [may, june])"
   ]
  },
  {
   "cell_type": "code",
   "execution_count": 11,
   "metadata": {},
   "outputs": [
    {
     "data": {
      "text/plain": [
       "{'acknowledged': True}"
      ]
     },
     "execution_count": 11,
     "metadata": {},
     "output_type": "execute_result"
    }
   ],
   "source": [
    "client.indices.delete(index_name)"
   ]
  },
  {
   "cell_type": "code",
   "execution_count": 166,
   "metadata": {},
   "outputs": [
    {
     "data": {
      "text/plain": [
       "{'transactions': {'mappings': {'properties': {'amount': {'type': 'float'},\n",
       "    'day': {'type': 'text'},\n",
       "    'from': {'type': 'text'},\n",
       "    'vendor': {'type': 'text'}}}}}"
      ]
     },
     "execution_count": 166,
     "metadata": {},
     "output_type": "execute_result"
    }
   ],
   "source": [
    "client.indices.get_mapping(index_name)"
   ]
  }
 ],
 "metadata": {
  "kernelspec": {
   "display_name": "venv",
   "language": "python",
   "name": "python3"
  },
  "language_info": {
   "codemirror_mode": {
    "name": "ipython",
    "version": 3
   },
   "file_extension": ".py",
   "mimetype": "text/x-python",
   "name": "python",
   "nbconvert_exporter": "python",
   "pygments_lexer": "ipython3",
   "version": "3.12.4"
  }
 },
 "nbformat": 4,
 "nbformat_minor": 2
}
