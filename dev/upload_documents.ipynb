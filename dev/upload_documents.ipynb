{
 "cells": [
  {
   "cell_type": "markdown",
   "metadata": {},
   "source": [
    "Collected by passing the ledger files to gpt 4o with the prompt\n",
    "\n",
    "```\n",
    "\"\"\"\n",
    "For each transaction in my data where the transaction goes to Assets:Discover:Spent, extract the transaction's information in the following format:\n",
    "\n",
    "{\n",
    "    \"MCDONALD’S\": {\"day\": \"07\", \"amount\": \"6.51\", \"from\": \"Assets:Discover:Main:Wants:Other\"},\n",
    "    ...\n",
    "}\n",
    "\"\"\"\n",
    "```"
   ]
  },
  {
   "cell_type": "code",
   "execution_count": 1,
   "metadata": {},
   "outputs": [
    {
     "name": "stderr",
     "output_type": "stream",
     "text": [
      "/Users/jdanner/Documents/side_projects/image2transactions/venv/lib/python3.12/site-packages/opensearchpy/connection/http_urllib3.py:214: UserWarning: Connecting to https://localhost:9200 using SSL with verify_certs=False is insecure.\n",
      "  warnings.warn(\n"
     ]
    }
   ],
   "source": [
    "import sys\n",
    "import os\n",
    "\n",
    "project_root = os.path.abspath(os.path.join(os.getcwd(), '..'))\n",
    "sys.path.insert(0, project_root)\n",
    "\n",
    "from src.opensearch.client import client, index_name\n",
    "from src.opensearch.upload import add_index, add_documents\n"
   ]
  },
  {
   "cell_type": "code",
   "execution_count": 5,
   "metadata": {},
   "outputs": [],
   "source": [
    "transactions = \"\"\"\n",
    "\"\"\""
   ]
  },
  {
   "cell_type": "code",
   "execution_count": 6,
   "metadata": {},
   "outputs": [
    {
     "name": "stdout",
     "output_type": "stream",
     "text": [
      "{\n",
      "    \"MCDONALD'S\": {\"day\": \"07\", \"amount\": \"6.51\", \"from_account\": \"Assets:Discover:Main:Wants:Other\"},\n",
      "    \"MAD MAX TICKETS\": {\"day\": \"07\", \"amount\": \"28.46\", \"from_account\": \"Assets:Discover:Main:Wants:Other\"},\n",
      "    \"SQ BERNARDOS BURRITOS\": {\"day\": \"08\", \"amount\": \"11.22\", \"from_account\": \"Assets:Discover:Main:Wants:Other\"}\n",
      "}\n"
     ]
    }
   ],
   "source": [
    "from langchain_openai import ChatOpenAI\n",
    "from langchain_core.prompts import PromptTemplate\n",
    "from langchain_core.output_parsers import StrOutputParser\n",
    "\n",
    "template = \"\"\"\n",
    "__Task__: Convert the format of these transactions.\n",
    "\n",
    "__Instructions__:\n",
    "1. Convert each transaction into a python dict with the following shape:\n",
    "{{\n",
    "    \"TRANSACTIONNAME\": {{\"day\": \"string\", \"amount\": \"string\", \"from_account\": \"string\"}}\n",
    "}}\n",
    "2. Output __only__ the dict of transactions. Without any additional text, symbols, or Markdown formatting.\n",
    "\n",
    "__Desired output__: Example:\n",
    "{{\n",
    "    \"MCDONALD'S\": {{\"day\": \"07\", \"amount\": \"6.51\", \"from_account\": \"Assets:Discover:Main:Wants:Other\"}},\n",
    "    \"MAD MAX TICKETS\": {{\"day\": \"07\", \"amount\": \"28.46\", \"from_account\": \"Assets:Discover:Main:Wants:Other\"}},\n",
    "    \"SQ BERNARDOS BURRITOS\": {{\"day\": \"08\", \"amount\": \"11.22\", \"from_account\": \"Assets:Discover:Main:Wants:Other\"}},\n",
    "}}\n",
    "---\n",
    "{transactions}\n",
    "\"\"\"\n",
    "\n",
    "prompt = PromptTemplate.from_template(template)\n",
    "llm = ChatOpenAI(model=\"gpt-4o-mini\")\n",
    "\n",
    "chain = (\n",
    "    prompt\n",
    "    | llm\n",
    "    | StrOutputParser()\n",
    ")\n",
    "\n",
    "output = chain.invoke({\"transactions\": transactions})\n",
    "print(output)"
   ]
  },
  {
   "cell_type": "code",
   "execution_count": 2,
   "metadata": {},
   "outputs": [],
   "source": [
    "may = {\n",
    "    \"MIYABI 9\": {\"day\": \"04\", \"amount\": \"70\", \"from_account\": \"Assets:Discover:Main:Wants:Other\"},\n",
    "    \"DSM PARKING\": {\"day\": \"04\", \"amount\": \"1.25\", \"from_account\": \"Assets:Discover:Main:Wants:Other\"},\n",
    "    \"CHATGPT\": {\"day\": \"04\", \"amount\": \"20\", \"from_account\": \"Assets:Discover:Main:Wants:Monthly\"},\n",
    "    \"AMAZON PRIME\": {\"day\": \"04\", \"amount\": \"16.04\", \"from_account\": \"Assets:Discover:Main:Needs:Monthly\"},\n",
    "    \"QDOBA\": {\"day\": \"06\", \"amount\": \"22.04\", \"from_account\": \"Assets:Discover:Main:Wants:Other\"},\n",
    "    \"WALMART\": {\"day\": \"07\", \"amount\": \"66.96\", \"from_account\": \"Assets:Discover:Main:Needs:Groceries\"},\n",
    "    \"CULVERS\": {\"day\": \"07\", \"amount\": \"13.95\", \"from_account\": \"Assets:Discover:Main:Wants:Other\"},\n",
    "    \"MAD MEATBALL\": {\"day\": \"09\", \"amount\": \"16\", \"from_account\": \"Assets:Discover:Main:Wants:Other\"},\n",
    "    \"SPOTIFY\": {\"day\": \"09\", \"amount\": \"11.76\", \"from_account\": \"Assets:Discover:Main:Wants:Monthly\"},\n",
    "    \"LUA THC DRINKS\": {\"day\": \"10\", \"amount\": \"28.87\", \"from_account\": \"Assets:Discover:Main:Wants:Other\"},\n",
    "    \"JIMMY JOHNS\": {\"day\": \"10\", \"amount\": \"22.18\", \"from_account\": \"Assets:Discover:Main:Wants:Other\"},\n",
    "    \"ADIDAS SHOES\": {\"day\": \"11\", \"amount\": \"115.33\", \"from_account\": \"Assets:Discover:FutureWants\"},\n",
    "    \"AMAZON EMILY GRAD GIFT\": {\"day\": \"12\", \"amount\": \"109.50\", \"from_account\": \"Assets:Discover:FutureWants\"},\n",
    "    \"DOMINOS\": {\"day\": \"12\", \"amount\": \"17.86\", \"from_account\": \"Assets:Discover:Main:Wants:Other\"},\n",
    "    \"WALMART GROCERIES\": {\"day\": \"14\", \"amount\": \"49.02\", \"from_account\": \"Assets:Discover:Main:Needs:Groceries\"},\n",
    "    \"TARGET EMILY GRAD GIFT FILM\": {\"day\": \"14\", \"amount\": \"13.90\", \"from_account\": \"Assets:Discover:FutureWants\"},\n",
    "    \"INTERNET BILL\": {\"day\": \"15\", \"amount\": \"85\", \"from_account\": \"Assets:Discover:Main:Needs:Monthly\"},\n",
    "    \"AMAZON EMILY GRAD GIFT FILM\": {\"day\": \"15\", \"amount\": \"29.92\", \"from_account\": \"Assets:Discover:FutureWants\"},\n",
    "    \"DESPENSARY\": {\"day\": \"17\", \"amount\": \"21.40\", \"from_account\": \"Assets:Discover:Main:Wants:Other\"},\n",
    "    \"PANCHEROS\": {\"day\": \"17\", \"amount\": \"23.11\", \"from_account\": \"Assets:Discover:Main:Wants:Other\"},\n",
    "    \"BP DRINKS\": {\"day\": \"19\", \"amount\": \"6.07\", \"from_account\": \"Assets:Discover:Main:Wants:Other\"},\n",
    "    \"WALMART GROCERIES\": {\"day\": \"21\", \"amount\": \"37.86\", \"from_account\": \"Assets:Discover:Main:Needs:Groceries\"},\n",
    "    \"GAS FROM SAMS\": {\"day\": \"21\", \"amount\": \"38.04\", \"from\": \"Assets:Discover:Main:Needs:Gas\"},\n",
    "    \"SAMS GROCERIES\": {\"day\": \"21\", \"amount\": \"84.57\", \"from_account\": \"Assets:Discover:Main:Needs:Groceries\"},\n",
    "    \"PALMERS LUNCH\": {\"day\": \"21\", \"amount\": \"21.06\", \"from_account\": \"Assets:Discover:Main:Wants:Other\"},\n",
    "    \"AMAZON PRIME HBO MAX\": {\"day\": \"22\", \"amount\": \"10.69\", \"from_account\": \"Assets:Discover:Main:Wants:Monthly\"},\n",
    "    \"CHIPOTLE\": {\"day\": \"27\", \"amount\": \"24.98\", \"from_account\": \"Assets:Discover:Main:Wants:Other\"},\n",
    "    \"OBSIDIAN\": {\"day\": \"27\", \"amount\": \"10\", \"from_account\": \"Assets:Discover:Main:Wants:Monthly\"},\n",
    "    \"BEER GARDEN\": {\"day\": \"31\", \"amount\": \"39.04\", \"from_account\": \"Assets:Discover:Main:Wants:Other\"},\n",
    "    \"DOMINOS\": {\"day\": \"31\", \"amount\": \"26.55\", \"from_account\": \"Assets:Discover:Main:Wants:Other\"},\n",
    "    \"WALMART ALLERGY MEDS\": {\"day\": \"01\", \"amount\": \"48.26\", \"from_account\": \"Assets:Discover:Main:Needs:Groceries\"},\n",
    "    \"GOOGLE GSUITE\": {\"day\": \"01\", \"amount\": \"12.84\", \"from_account\": \"Assets:Discover:Main:Wants:Monthly\"},\n",
    "    \"AWS BILL\": {\"day\": \"02\", \"amount\": \"2.89\", \"from_account\": \"Assets:Discover:Main:Wants:Monthly\"},\n",
    "    \"INDYCAR TICKETS\": {\"day\": \"02\", \"amount\": \"308\", \"from_account\": \"Assets:Discover:FutureWants\"},\n",
    "    \"AMAZON HOUSE UTILITIES\": {\"day\": \"02\", \"amount\": \"76.01\", \"from_account\": \"Assets:Discover:Furniture\"},\n",
    "    \"AMAZON PRIME\": {\"day\": \"04\", \"amount\": \"16.04\", \"from_account\": \"Assets:Discover:Main:Needs:Monthly\"},\n",
    "    \"CHICK FIL A\": {\"day\": \"04\", \"amount\": \"11.97\", \"from_account\": \"Assets:Discover:Main:Wants:Other\"},\n",
    "    \"CHATGPT SUBSCRIPTION\": {\"day\": \"04\", \"amount\": \"20\", \"from_account\": \"Assets:Discover:Main:Wants:Monthly\"},\n",
    "    \"WALMART GROCERIES\": {\"day\": \"04\", \"amount\": \"17.95\", \"from_account\": \"Assets:Discover:Main:Needs:Groceries\"}\n",
    "}\n",
    "\n",
    "june = {\n",
    "    \"MCDONALD'S\": {\"day\": \"07\", \"amount\": \"6.51\", \"from_account\": \"Assets:Discover:Main:Wants:Other\"},\n",
    "    \"MAD MAX TICKETS\": {\"day\": \"07\", \"amount\": \"28.46\", \"from_account\": \"Assets:Discover:Main:Wants:Other\"},\n",
    "    \"SQ BERNARDOS BURRITOS\": {\"day\": \"08\", \"amount\": \"11.22\", \"from_account\": \"Assets:Discover:Main:Wants:Other\"},\n",
    "    \"SPOTIFY\": {\"day\": \"09\", \"amount\": \"11.76\", \"from_account\": \"Assets:Discover:Main:Wants:Monthly\"},\n",
    "    \"WALMART STORE\": {\"day\": \"18\", \"amount\": \"63.39\", \"from_account\": \"Assets:Discover:Main:Needs:Groceries\"},\n",
    "    \"CASEYS\": {\"day\": \"12\", \"amount\": \"38.72\", \"from_account\": \"Assets:Discover:Main:Needs:Gas\"},\n",
    "    \"PANCHEROS\": {\"day\": \"13\", \"amount\": \"11.56\", \"from_account\": \"Assets:Discover:Main:Wants:Other\"},\n",
    "    \"TST DES MOINES BEER\": {\"day\": \"14\", \"amount\": \"40.26\", \"from_account\": \"Assets:Discover:Main:Wants:Other\"},\n",
    "    \"QUANTUM FIBER\": {\"day\": \"15\", \"amount\": \"85.00\", \"from_account\": \"Assets:Discover:Main:Needs:Monthly\"},\n",
    "    \"TST CHOWRASTHA INDIAN\": {\"day\": \"16\", \"amount\": \"41.20\", \"from_account\": \"Assets:Discover:Main:Wants:Other\"},\n",
    "    \"JIMMY JOHNS\": {\"day\": \"16\", \"amount\": \"22.18\", \"from_account\": \"Assets:Discover:Main:Wants:Other\"},\n",
    "    \"AMAZON.COM CEREAL FOR DAD\": {\"day\": \"17\", \"amount\": \"12.12\", \"from_account\": \"Assets:Discover:Main:Wants:Other\"},\n",
    "    \"HABENEROS MEXICAN\": {\"day\": \"21\", \"amount\": \"40.00\", \"from_account\": \"Assets:Discover:Main:Wants:Other\"},\n",
    "    \"AMAZON HBO\": {\"day\": \"22\", \"amount\": \"10.69\", \"from_account\": \"Assets:Discover:Main:Wants:Monthly\"}\n",
    "}\n",
    "\n",
    "jul_8 = {\n",
    "    \"UNIVERSITY LIBRAR\": {\"day\": \"23\", \"amount\": \"38.86\", \"from_account\": \"Assets:Discover:Main:Wants:Other\"},\n",
    "    \"DES MOINES BEER G\": {\"day\": \"23\", \"amount\": \"34.16\", \"from_account\": \"Assets:Discover:Main:Wants:Other\"},\n",
    "    \"AMAZON\": {\"day\": \"24\", \"amount\": \"13.9\", \"from_account\": \"Assets:Discover:Main:Wants:Other\"},\n",
    "    \"DOMINO'S\": {\"day\": \"25\", \"amount\": \"20.8\", \"from_account\": \"Assets:Discover:Main:Wants:Other\"},\n",
    "    \"PANCHEROS\": {\"day\": \"26\", \"amount\": \"11.56\", \"from_account\": \"Assets:Discover:Main:Wants:Other\"},\n",
    "    \"WALMART\": {\"day\": \"27\", \"amount\": \"33.07\", \"from_account\": \"Assets:Discover:Main:Needs:Groceries\"},\n",
    "    \"MCDONALD'S\": {\"day\": \"27\", \"amount\": \"6.61\", \"from_account\": \"Assets:Discover:Main:Wants:Other\"},\n",
    "    \"HY-VEE\": {\"day\": \"28\", \"amount\": \"24.11\", \"from_account\": \"Assets:Discover:Main:Needs:Groceries\"},\n",
    "    \"OBSIDIAN.MD\": {\"day\": \"29\", \"amount\": \"10.0\", \"from_account\": \"Assets:Discover:Main:Wants:Other\"},\n",
    "    \"GOOGLE\": {\"day\": \"1\", \"amount\": \"24.84\", \"from_account\": \"Assets:Discover:Main:Wants:Monthly\"},\n",
    "    \"TASTY TACOS\": {\"day\": \"1\", \"amount\": \"13.96\", \"from_account\": \"Assets:Discover:Main:Wants:Other\"},\n",
    "    \"CASEY'S\": {\"day\": \"1\", \"amount\": \"40.48\", \"from_account\": \"Assets:Discover:Main:Needs:Gas\"},\n",
    "    \"MCDONALD'S\": {\"day\": \"2\", \"amount\": \"2.77\", \"from_account\": \"Assets:Discover:Main:Wants:Other\"},\n",
    "    \"ROLLING WOK CAFE\": {\"day\": \"3\", \"amount\": \"41.93\", \"from_account\": \"Assets:Discover:Main:Wants:Other\"},\n",
    "    \"AMAZON\": {\"day\": \"3\", \"amount\": \"6.6\", \"from_account\": \"Assets:Discover:Main:Wants:Monthly\"},\n",
    "    \"TARGET\": {\"day\": \"4\", \"amount\": \"17.31\", \"from_account\": \"Assets:Discover:Main:Wants:Other\"},\n",
    "    \"OPENAI\": {\"day\": \"4\", \"amount\": \"20.0\", \"from_account\": \"Assets:Discover:Main:Wants:Monthly\"},\n",
    "    \"KOHL'S\": {\"day\": \"4\", \"amount\": \"47.04\", \"from_account\": \"Assets:Discover:Main:Wants:Other\"},\n",
    "    \"AMAZON\": {\"day\": \"4\", \"amount\": \"16.04\", \"from_account\": \"Assets:Discover:Main:Needs:Monthly\"},\n",
    "    \"PHO 515\": {\"day\": \"6\", \"amount\": \"21.93\", \"from_account\": \"Assets:Discover:Main:Wants:Other\"},\n",
    "    \"HIGHLIFE-BAITSHOP\": {\"day\": \"6\", \"amount\": \"8.05\", \"from_account\": \"Assets:Discover:Main:Wants:Other\"},\n",
    "    \"PANCHEROS\": {\"day\": \"7\", \"amount\": \"13.0\", \"from_account\": \"Assets:Discover:Main:Wants:Other\"},\n",
    "    \"PANCHEROS\": {\"day\": \"8\", \"amount\": \"13.0\", \"from_account\": \"Assets:Discover:Main:Wants:Other\"}\n",
    "}\n",
    "\n",
    "add_index(client, index_name)\n",
    "add_documents(client, index_name, [may, june, jul_8])"
   ]
  },
  {
   "cell_type": "code",
   "execution_count": 11,
   "metadata": {},
   "outputs": [
    {
     "data": {
      "text/plain": [
       "{'acknowledged': True}"
      ]
     },
     "execution_count": 11,
     "metadata": {},
     "output_type": "execute_result"
    }
   ],
   "source": [
    "client.indices.delete(index_name)"
   ]
  },
  {
   "cell_type": "code",
   "execution_count": 3,
   "metadata": {},
   "outputs": [
    {
     "data": {
      "text/plain": [
       "{'transactions': {'mappings': {'properties': {'amount': {'type': 'float'},\n",
       "    'day': {'type': 'text'},\n",
       "    'from': {'type': 'text',\n",
       "     'fields': {'keyword': {'type': 'keyword', 'ignore_above': 256}}},\n",
       "    'from_account': {'type': 'text'},\n",
       "    'vendor': {'type': 'text'}}}}}"
      ]
     },
     "execution_count": 3,
     "metadata": {},
     "output_type": "execute_result"
    }
   ],
   "source": [
    "client.indices.get_mapping(index_name)"
   ]
  }
 ],
 "metadata": {
  "kernelspec": {
   "display_name": "venv",
   "language": "python",
   "name": "python3"
  },
  "language_info": {
   "codemirror_mode": {
    "name": "ipython",
    "version": 3
   },
   "file_extension": ".py",
   "mimetype": "text/x-python",
   "name": "python",
   "nbconvert_exporter": "python",
   "pygments_lexer": "ipython3",
   "version": "3.12.4"
  }
 },
 "nbformat": 4,
 "nbformat_minor": 2
}
