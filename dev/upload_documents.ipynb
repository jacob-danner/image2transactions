{
 "cells": [
  {
   "cell_type": "markdown",
   "metadata": {},
   "source": [
    "Collected by passing the ledger files to gpt 4o with the prompt\n",
    "\n",
    "```\n",
    "\"\"\"\n",
    "For each transaction in my data where the transaction goes to Assets:Discover:Spent, extract the transaction's information in the following format:\n",
    "\n",
    "{\n",
    "    \"MCDONALD’S\": {\"day\": \"07\", \"amount\": \"6.51\", \"from\": \"Assets:Discover:Main:Wants:Other\"},\n",
    "    ...\n",
    "}\n",
    "\"\"\"\n",
    "```"
   ]
  },
  {
   "cell_type": "code",
   "execution_count": 8,
   "metadata": {},
   "outputs": [],
   "source": [
    "import sys\n",
    "import os\n",
    "\n",
    "project_root = os.path.abspath(os.path.join(os.getcwd(), '..'))\n",
    "sys.path.insert(0, project_root)\n",
    "\n",
    "from src.opensearch.client import client, index_name\n",
    "from src.opensearch.upload import add_index, add_documents"
   ]
  },
  {
   "cell_type": "code",
   "execution_count": 12,
   "metadata": {},
   "outputs": [],
   "source": [
    "june = {\n",
    "    \"MCDONALD'S\": {\"day\": \"07\", \"amount\": \"6.51\", \"from_account\": \"Assets:Discover:Main:Wants:Other\"},\n",
    "    \"MAD MAX TICKETS\": {\"day\": \"07\", \"amount\": \"28.46\", \"from_account\": \"Assets:Discover:Main:Wants:Other\"},\n",
    "    \"SQ BERNARDOS BURRITOS\": {\"day\": \"08\", \"amount\": \"11.22\", \"from_account\": \"Assets:Discover:Main:Wants:Other\"},\n",
    "    \"SPOTIFY\": {\"day\": \"09\", \"amount\": \"11.76\", \"from_account\": \"Assets:Discover:Main:Wants:Monthly\"},\n",
    "    \"WALMART STORE\": {\"day\": \"18\", \"amount\": \"63.39\", \"from_account\": \"Assets:Discover:Main:Needs:Groceries\"},\n",
    "    \"CASEYS\": {\"day\": \"12\", \"amount\": \"38.72\", \"from_account\": \"Assets:Discover:Main:Needs:Gas\"},\n",
    "    \"PANCHEROS\": {\"day\": \"13\", \"amount\": \"11.56\", \"from_account\": \"Assets:Discover:Main:Wants:Other\"},\n",
    "    \"TST DES MOINES BEER\": {\"day\": \"14\", \"amount\": \"40.26\", \"from_account\": \"Assets:Discover:Main:Wants:Other\"},\n",
    "    \"QUANTUM FIBER\": {\"day\": \"15\", \"amount\": \"85.00\", \"from_account\": \"Assets:Discover:Main:Needs:Monthly\"},\n",
    "    \"TST CHOWRASTHA INDIAN\": {\"day\": \"16\", \"amount\": \"41.20\", \"from_account\": \"Assets:Discover:Main:Wants:Other\"},\n",
    "    \"JIMMY JOHNS\": {\"day\": \"16\", \"amount\": \"22.18\", \"from_account\": \"Assets:Discover:Main:Wants:Other\"},\n",
    "    \"AMAZON.COM CEREAL FOR DAD\": {\"day\": \"17\", \"amount\": \"12.12\", \"from_account\": \"Assets:Discover:Main:Wants:Other\"},\n",
    "    \"HABENEROS MEXICAN\": {\"day\": \"21\", \"amount\": \"40.00\", \"from_account\": \"Assets:Discover:Main:Wants:Other\"},\n",
    "    \"AMAZON HBO\": {\"day\": \"22\", \"amount\": \"10.69\", \"from_account\": \"Assets:Discover:Main:Wants:Monthly\"}\n",
    "}\n",
    "\n",
    "may = {\n",
    "    \"MIYABI 9\": {\"day\": \"04\", \"amount\": \"70\", \"from_account\": \"Assets:Discover:Main:Wants:Other\"},\n",
    "    \"DSM PARKING\": {\"day\": \"04\", \"amount\": \"1.25\", \"from_account\": \"Assets:Discover:Main:Wants:Other\"},\n",
    "    \"CHATGPT\": {\"day\": \"04\", \"amount\": \"20\", \"from_account\": \"Assets:Discover:Main:Wants:Monthly\"},\n",
    "    \"AMAZON PRIME\": {\"day\": \"04\", \"amount\": \"16.04\", \"from_account\": \"Assets:Discover:Main:Needs:Monthly\"},\n",
    "    \"QDOBA\": {\"day\": \"06\", \"amount\": \"22.04\", \"from_account\": \"Assets:Discover:Main:Wants:Other\"},\n",
    "    \"WALMART\": {\"day\": \"07\", \"amount\": \"66.96\", \"from_account\": \"Assets:Discover:Main:Needs:Groceries\"},\n",
    "    \"CULVERS\": {\"day\": \"07\", \"amount\": \"13.95\", \"from_account\": \"Assets:Discover:Main:Wants:Other\"},\n",
    "    \"MAD MEATBALL\": {\"day\": \"09\", \"amount\": \"16\", \"from_account\": \"Assets:Discover:Main:Wants:Other\"},\n",
    "    \"SPOTIFY\": {\"day\": \"09\", \"amount\": \"11.76\", \"from_account\": \"Assets:Discover:Main:Wants:Monthly\"},\n",
    "    \"LUA THC DRINKS\": {\"day\": \"10\", \"amount\": \"28.87\", \"from_account\": \"Assets:Discover:Main:Wants:Other\"},\n",
    "    \"JIMMY JOHNS\": {\"day\": \"10\", \"amount\": \"22.18\", \"from_account\": \"Assets:Discover:Main:Wants:Other\"},\n",
    "    \"ADIDAS SHOES\": {\"day\": \"11\", \"amount\": \"115.33\", \"from_account\": \"Assets:Discover:FutureWants\"},\n",
    "    \"AMAZON EMILY GRAD GIFT\": {\"day\": \"12\", \"amount\": \"109.50\", \"from_account\": \"Assets:Discover:FutureWants\"},\n",
    "    \"DOMINOS\": {\"day\": \"12\", \"amount\": \"17.86\", \"from_account\": \"Assets:Discover:Main:Wants:Other\"},\n",
    "    \"WALMART GROCERIES\": {\"day\": \"14\", \"amount\": \"49.02\", \"from_account\": \"Assets:Discover:Main:Needs:Groceries\"},\n",
    "    \"TARGET EMILY GRAD GIFT FILM\": {\"day\": \"14\", \"amount\": \"13.90\", \"from_account\": \"Assets:Discover:FutureWants\"},\n",
    "    \"INTERNET BILL\": {\"day\": \"15\", \"amount\": \"85\", \"from_account\": \"Assets:Discover:Main:Needs:Monthly\"},\n",
    "    \"AMAZON EMILY GRAD GIFT FILM\": {\"day\": \"15\", \"amount\": \"29.92\", \"from_account\": \"Assets:Discover:FutureWants\"},\n",
    "    \"DESPENSARY\": {\"day\": \"17\", \"amount\": \"21.40\", \"from_account\": \"Assets:Discover:Main:Wants:Other\"},\n",
    "    \"PANCHEROS\": {\"day\": \"17\", \"amount\": \"23.11\", \"from_account\": \"Assets:Discover:Main:Wants:Other\"},\n",
    "    \"BP DRINKS\": {\"day\": \"19\", \"amount\": \"6.07\", \"from_account\": \"Assets:Discover:Main:Wants:Other\"},\n",
    "    \"WALMART GROCERIES\": {\"day\": \"21\", \"amount\": \"37.86\", \"from_account\": \"Assets:Discover:Main:Needs:Groceries\"},\n",
    "    \"GAS FROM SAMS\": {\"day\": \"21\", \"amount\": \"38.04\", \"from\": \"Assets:Discover:Main:Needs:Gas\"},\n",
    "    \"SAMS GROCERIES\": {\"day\": \"21\", \"amount\": \"84.57\", \"from_account\": \"Assets:Discover:Main:Needs:Groceries\"},\n",
    "    \"PALMERS LUNCH\": {\"day\": \"21\", \"amount\": \"21.06\", \"from_account\": \"Assets:Discover:Main:Wants:Other\"},\n",
    "    \"AMAZON PRIME HBO MAX\": {\"day\": \"22\", \"amount\": \"10.69\", \"from_account\": \"Assets:Discover:Main:Wants:Monthly\"},\n",
    "    \"CHIPOTLE\": {\"day\": \"27\", \"amount\": \"24.98\", \"from_account\": \"Assets:Discover:Main:Wants:Other\"},\n",
    "    \"OBSIDIAN\": {\"day\": \"27\", \"amount\": \"10\", \"from_account\": \"Assets:Discover:Main:Wants:Monthly\"},\n",
    "    \"BEER GARDEN\": {\"day\": \"31\", \"amount\": \"39.04\", \"from_account\": \"Assets:Discover:Main:Wants:Other\"},\n",
    "    \"DOMINOS\": {\"day\": \"31\", \"amount\": \"26.55\", \"from_account\": \"Assets:Discover:Main:Wants:Other\"},\n",
    "    \"WALMART ALLERGY MEDS\": {\"day\": \"01\", \"amount\": \"48.26\", \"from_account\": \"Assets:Discover:Main:Needs:Groceries\"},\n",
    "    \"GOOGLE GSUITE\": {\"day\": \"01\", \"amount\": \"12.84\", \"from_account\": \"Assets:Discover:Main:Wants:Monthly\"},\n",
    "    \"AWS BILL\": {\"day\": \"02\", \"amount\": \"2.89\", \"from_account\": \"Assets:Discover:Main:Wants:Monthly\"},\n",
    "    \"INDYCAR TICKETS\": {\"day\": \"02\", \"amount\": \"308\", \"from_account\": \"Assets:Discover:FutureWants\"},\n",
    "    \"AMAZON HOUSE UTILITIES\": {\"day\": \"02\", \"amount\": \"76.01\", \"from_account\": \"Assets:Discover:Furniture\"},\n",
    "    \"AMAZON PRIME\": {\"day\": \"04\", \"amount\": \"16.04\", \"from_account\": \"Assets:Discover:Main:Needs:Monthly\"},\n",
    "    \"CHICK FIL A\": {\"day\": \"04\", \"amount\": \"11.97\", \"from_account\": \"Assets:Discover:Main:Wants:Other\"},\n",
    "    \"CHATGPT SUBSCRIPTION\": {\"day\": \"04\", \"amount\": \"20\", \"from_account\": \"Assets:Discover:Main:Wants:Monthly\"},\n",
    "    \"WALMART GROCERIES\": {\"day\": \"04\", \"amount\": \"17.95\", \"from_account\": \"Assets:Discover:Main:Needs:Groceries\"}\n",
    "}\n",
    "\n",
    "add_index(client, index_name)\n",
    "add_documents(client, index_name, [may, june])"
   ]
  },
  {
   "cell_type": "code",
   "execution_count": 11,
   "metadata": {},
   "outputs": [
    {
     "data": {
      "text/plain": [
       "{'acknowledged': True}"
      ]
     },
     "execution_count": 11,
     "metadata": {},
     "output_type": "execute_result"
    }
   ],
   "source": [
    "client.indices.delete(index_name)"
   ]
  },
  {
   "cell_type": "code",
   "execution_count": 166,
   "metadata": {},
   "outputs": [
    {
     "data": {
      "text/plain": [
       "{'transactions': {'mappings': {'properties': {'amount': {'type': 'float'},\n",
       "    'day': {'type': 'text'},\n",
       "    'from': {'type': 'text'},\n",
       "    'vendor': {'type': 'text'}}}}}"
      ]
     },
     "execution_count": 166,
     "metadata": {},
     "output_type": "execute_result"
    }
   ],
   "source": [
    "client.indices.get_mapping(index_name)"
   ]
  }
 ],
 "metadata": {
  "kernelspec": {
   "display_name": "venv",
   "language": "python",
   "name": "python3"
  },
  "language_info": {
   "codemirror_mode": {
    "name": "ipython",
    "version": 3
   },
   "file_extension": ".py",
   "mimetype": "text/x-python",
   "name": "python",
   "nbconvert_exporter": "python",
   "pygments_lexer": "ipython3",
   "version": "3.12.4"
  }
 },
 "nbformat": 4,
 "nbformat_minor": 2
}
