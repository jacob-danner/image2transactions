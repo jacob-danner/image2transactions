{
 "cells": [
  {
   "cell_type": "code",
   "execution_count": 1,
   "metadata": {},
   "outputs": [],
   "source": [
    "from src.image2transaction import image2transaction"
   ]
  },
  {
   "cell_type": "code",
   "execution_count": 2,
   "metadata": {},
   "outputs": [
    {
     "name": "stdout",
     "output_type": "stream",
     "text": [
      "| DES MOINES BEER G | 40.26 | 14 |\n",
      "| QUANTUM FIBER | 85.0 | 15 |\n",
      "| JIMMY JOHN'S | 22.18 | 16 |\n",
      "| CHOWRASTHA INDIAN | 41.2 | 16 |\n",
      "| AMAZON | 12.12 | 17 |\n",
      "| MCDONALD'S | 8.53 | 17 |\n",
      "| WALMART | 63.39 | 18 |\n",
      "| HABENEROS MEXICAN RESTAURANT | 40.0 | 21 |\n",
      "| AMAZON PRIME | 10.69 | 22 |\n",
      "| DES MOINES BEER G | 34.16 | 23 |\n",
      "| UNIVERSITY LIBRARY | 38.86 | 23 |\n"
     ]
    }
   ],
   "source": [
    "md_transactions = image2transaction('tests/images/2.png')\n",
    "print(*md_transactions, sep='\\n')"
   ]
  }
 ],
 "metadata": {
  "kernelspec": {
   "display_name": "venv",
   "language": "python",
   "name": "python3"
  },
  "language_info": {
   "codemirror_mode": {
    "name": "ipython",
    "version": 3
   },
   "file_extension": ".py",
   "mimetype": "text/x-python",
   "name": "python",
   "nbconvert_exporter": "python",
   "pygments_lexer": "ipython3",
   "version": "3.12.4"
  }
 },
 "nbformat": 4,
 "nbformat_minor": 2
}
