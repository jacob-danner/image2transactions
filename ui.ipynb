{
 "cells": [
  {
   "cell_type": "code",
   "execution_count": 1,
   "metadata": {},
   "outputs": [
    {
     "name": "stderr",
     "output_type": "stream",
     "text": [
      "/Users/jdanner/Documents/image2transactions/venv/lib/python3.12/site-packages/opensearchpy/connection/http_urllib3.py:214: UserWarning: Connecting to https://localhost:9200 using SSL with verify_certs=False is insecure.\n",
      "  warnings.warn(\n"
     ]
    }
   ],
   "source": [
    "from src.main import run"
   ]
  },
  {
   "cell_type": "code",
   "execution_count": 3,
   "metadata": {},
   "outputs": [
    {
     "name": "stdout",
     "output_type": "stream",
     "text": [
      "\u001b[1A\u001b[1B\u001b[0G\u001b[?25l[+] Running 0/0\n",
      " \u001b[33m⠋\u001b[0m Container opensearch  Starting                                          \u001b[34m0.1s \u001b[0m\n",
      "\u001b[?25h\u001b[1A\u001b[1A\u001b[0G\u001b[?25l\u001b[34m[+] Running 1/1\u001b[0m\n",
      " \u001b[32m✔\u001b[0m Container opensearch  \u001b[32mStarted\u001b[0m                                           \u001b[34m0.2s \u001b[0m\n",
      "\u001b[?25h"
     ]
    }
   ],
   "source": [
    "!docker-compose up -d"
   ]
  },
  {
   "cell_type": "code",
   "execution_count": 4,
   "metadata": {},
   "outputs": [
    {
     "name": "stdout",
     "output_type": "stream",
     "text": [
      "cleaned_transactions:\n",
      "[CleanedTransaction(vendor=\"MCDONALD'S\", amount=6.61, day=27), CleanedTransaction(vendor='WALMART', amount=33.07, day=27), CleanedTransaction(vendor='PANCHEROS', amount=11.56, day=26), CleanedTransaction(vendor=\"DOMINO'S\", amount=20.8, day=25), CleanedTransaction(vendor='AMAZON', amount=13.9, day=24)]\n",
      "classified_transactions:\n",
      "[ClassifiedTransaction(vendor=\"MCDONALD'S\", amount=6.61, day=27, from_account=\"'Assets:Discover:Main:Wants:Other'\"), ClassifiedTransaction(vendor='WALMART', amount=33.07, day=27, from_account=\"'Assets:Discover:Main:Needs:Groceries'\"), ClassifiedTransaction(vendor='PANCHEROS', amount=11.56, day=26, from_account=\"'Assets:Discover:Main:Wants:Other'\"), ClassifiedTransaction(vendor=\"DOMINO'S\", amount=20.8, day=25, from_account=\"'Discover:Main:Expenses:Food:Restaurants'\"), ClassifiedTransaction(vendor='AMAZON', amount=13.9, day=24, from_account=\"'Assets:Discover:Main:Wants:Other'\")]\n",
      "markdown:\n",
      "| AMAZON | 13.9 | 24 | 'Assets:Discover:Main:Wants:Other' |\n",
      "| DOMINO'S | 20.8 | 25 | 'Discover:Main:Expenses:Food:Restaurants' |\n",
      "| PANCHEROS | 11.56 | 26 | 'Assets:Discover:Main:Wants:Other' |\n",
      "| WALMART | 33.07 | 27 | 'Assets:Discover:Main:Needs:Groceries' |\n",
      "| MCDONALD'S | 6.61 | 27 | 'Assets:Discover:Main:Wants:Other' |\n"
     ]
    }
   ],
   "source": [
    "run('data/images/1.png')"
   ]
  },
  {
   "cell_type": "code",
   "execution_count": null,
   "metadata": {},
   "outputs": [],
   "source": [
    "!docker-compose down"
   ]
  }
 ],
 "metadata": {
  "kernelspec": {
   "display_name": "venv",
   "language": "python",
   "name": "python3"
  },
  "language_info": {
   "codemirror_mode": {
    "name": "ipython",
    "version": 3
   },
   "file_extension": ".py",
   "mimetype": "text/x-python",
   "name": "python",
   "nbconvert_exporter": "python",
   "pygments_lexer": "ipython3",
   "version": "3.12.4"
  }
 },
 "nbformat": 4,
 "nbformat_minor": 2
}
