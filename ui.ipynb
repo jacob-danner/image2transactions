{
 "cells": [
  {
   "cell_type": "code",
   "execution_count": 5,
   "metadata": {},
   "outputs": [
    {
     "name": "stderr",
     "output_type": "stream",
     "text": [
      "WARNI [opentelemetry.instrumentation.instrumentor] Attempting to instrument while already instrumented\n",
      "I0000 00:00:1722260297.613761 16644905 work_stealing_thread_pool.cc:320] WorkStealingThreadPoolImpl::PrepareFork\n",
      "I0000 00:00:1722260297.613902 16644905 fork_posix.cc:77] Other threads are currently calling into gRPC, skipping fork() handlers\n"
     ]
    },
    {
     "name": "stdout",
     "output_type": "stream",
     "text": [
      "\u001b[1A\u001b[1B\u001b[0G\u001b[?25l[+] Running 1/0\n",
      " \u001b[32m✔\u001b[0m Container opensearch  \u001b[32mRunning\u001b[0m                                           \u001b[34m0.0s \u001b[0m\n",
      "\u001b[?25h"
     ]
    }
   ],
   "source": [
    "from src.main import run\n",
    "\n",
    "import phoenix as px\n",
    "from phoenix.trace.langchain import LangChainInstrumentor\n",
    "\n",
    "LangChainInstrumentor().instrument()\n",
    "\n",
    "!docker-compose up -d"
   ]
  },
  {
   "cell_type": "code",
   "execution_count": 6,
   "metadata": {},
   "outputs": [
    {
     "name": "stderr",
     "output_type": "stream",
     "text": [
      "WARNI [phoenix.session.session] Existing running Phoenix instance detected! Shutting it down and starting a new instance...\n"
     ]
    },
    {
     "name": "stdout",
     "output_type": "stream",
     "text": [
      "🌍 To view the Phoenix app in your browser, visit http://localhost:6006/\n",
      "📖 For more information on how to use Phoenix, check out https://docs.arize.com/phoenix\n"
     ]
    }
   ],
   "source": [
    "session = px.launch_app()"
   ]
  },
  {
   "cell_type": "code",
   "execution_count": 7,
   "metadata": {},
   "outputs": [
    {
     "name": "stdout",
     "output_type": "stream",
     "text": [
      "| UNIVERSITY LIBRARY | 38.86 | 23 | Assets:Discover:Main:Wants:Other | Assets:Discover:Spent |\n",
      "| UNIVERSITY LIBRARY | 38.86 | 23 | Liabilities:CreditCard | Expenses:Assets:Discover:Main:Wants:Other |\n",
      "| DES MOINES BEER G | 34.16 | 23 | Assets:Discover:Main:Wants:Other | Assets:Discover:Spent |\n",
      "| DES MOINES BEER G | 34.16 | 23 | Liabilities:CreditCard | Expenses:Assets:Discover:Main:Wants:Other |\n"
     ]
    }
   ],
   "source": [
    "path_prefix = '07-08'\n",
    "image_paths = [f'data/images/{path_prefix}/{i}.png' for i in range(1, 2)]\n",
    "\n",
    "markdown = [run(image) for image in image_paths]\n",
    "print(*markdown, sep='\\n')"
   ]
  },
  {
   "cell_type": "code",
   "execution_count": 8,
   "metadata": {},
   "outputs": [
    {
     "name": "stdout",
     "output_type": "stream",
     "text": [
      "\u001b[1A\u001b[1B\u001b[0G\u001b[?25l[+] Running 0/0\n",
      " \u001b[33m⠋\u001b[0m Container opensearch  Stopping                                          \u001b[34m0.1s \u001b[0m\n",
      "\u001b[?25h\u001b[1A\u001b[1A\u001b[0G\u001b[?25l\u001b[34m[+] Running 1/1\u001b[0m\n",
      " \u001b[32m✔\u001b[0m Container opensearch  \u001b[32mRemoved\u001b[0m                                           \u001b[34m0.2s \u001b[0m\n",
      "\u001b[?25h\u001b[1A\u001b[1A\u001b[0G\u001b[?25l[+] Running 2/1\n",
      " \u001b[32m✔\u001b[0m Container opensearch                \u001b[32mRemoved\u001b[0m                             \u001b[34m0.2s \u001b[0m\n",
      " \u001b[32m✔\u001b[0m Network image2transactions_default  \u001b[32mRemoved\u001b[0m                             \u001b[34m0.1s \u001b[0m\n",
      "\u001b[?25h"
     ]
    }
   ],
   "source": [
    "px.close_app()\n",
    "!docker-compose down"
   ]
  }
 ],
 "metadata": {
  "kernelspec": {
   "display_name": "venv",
   "language": "python",
   "name": "python3"
  },
  "language_info": {
   "codemirror_mode": {
    "name": "ipython",
    "version": 3
   },
   "file_extension": ".py",
   "mimetype": "text/x-python",
   "name": "python",
   "nbconvert_exporter": "python",
   "pygments_lexer": "ipython3",
   "version": "3.12.4"
  }
 },
 "nbformat": 4,
 "nbformat_minor": 2
}
