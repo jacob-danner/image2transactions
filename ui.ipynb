{
 "cells": [
  {
   "cell_type": "code",
   "execution_count": 1,
   "metadata": {},
   "outputs": [
    {
     "name": "stderr",
     "output_type": "stream",
     "text": [
      "/Users/jdanner/Documents/image2transactions/venv/lib/python3.12/site-packages/opensearchpy/connection/http_urllib3.py:214: UserWarning: Connecting to https://localhost:9200 using SSL with verify_certs=False is insecure.\n",
      "  warnings.warn(\n",
      "/Users/jdanner/Documents/image2transactions/venv/lib/python3.12/site-packages/tqdm/auto.py:21: TqdmWarning: IProgress not found. Please update jupyter and ipywidgets. See https://ipywidgets.readthedocs.io/en/stable/user_install.html\n",
      "  from .autonotebook import tqdm as notebook_tqdm\n"
     ]
    }
   ],
   "source": [
    "from src.main import run\n",
    "\n",
    "import phoenix as px\n",
    "from phoenix.trace.langchain import LangChainInstrumentor\n",
    "\n",
    "LangChainInstrumentor().instrument() # this should only happen once\n",
    "\n",
    "!docker-compose up -d"
   ]
  },
  {
   "cell_type": "code",
   "execution_count": 2,
   "metadata": {},
   "outputs": [
    {
     "name": "stdout",
     "output_type": "stream",
     "text": [
      "🌍 To view the Phoenix app in your browser, visit http://localhost:6006/\n",
      "📖 For more information on how to use Phoenix, check out https://docs.arize.com/phoenix\n"
     ]
    }
   ],
   "source": [
    "# saved_trace = px.TraceDataset.load('d35f0403-3aeb-44d7-ad02-7135c2bb47c0', directory=\"phoenix-experiment\")\n",
    "session = px.launch_app()"
   ]
  },
  {
   "cell_type": "code",
   "execution_count": 6,
   "metadata": {},
   "outputs": [
    {
     "name": "stderr",
     "output_type": "stream",
     "text": [
      "ERROR [openinference.instrumentation.langchain._tracer] Failed to get attribute.\n",
      "Traceback (most recent call last):\n",
      "  File \"/Users/jdanner/Documents/image2transactions/venv/lib/python3.12/site-packages/openinference/instrumentation/langchain/_tracer.py\", line 275, in wrapper\n",
      "    yield from wrapped(*args, **kwargs)\n",
      "  File \"/Users/jdanner/Documents/image2transactions/venv/lib/python3.12/site-packages/openinference/instrumentation/langchain/_tracer.py\", line 441, in _parse_message_data\n",
      "    assert isinstance(content, str), f\"expected str, found {type(content)}\"\n",
      "           ^^^^^^^^^^^^^^^^^^^^^^^^\n",
      "AssertionError: expected str, found <class 'list'>\n",
      "ERROR [openinference.instrumentation.langchain._tracer] Failed to get attribute.\n",
      "Traceback (most recent call last):\n",
      "  File \"/Users/jdanner/Documents/image2transactions/venv/lib/python3.12/site-packages/openinference/instrumentation/langchain/_tracer.py\", line 275, in wrapper\n",
      "    yield from wrapped(*args, **kwargs)\n",
      "  File \"/Users/jdanner/Documents/image2transactions/venv/lib/python3.12/site-packages/openinference/instrumentation/langchain/_tracer.py\", line 441, in _parse_message_data\n",
      "    assert isinstance(content, str), f\"expected str, found {type(content)}\"\n",
      "           ^^^^^^^^^^^^^^^^^^^^^^^^\n",
      "AssertionError: expected str, found <class 'list'>\n",
      "ERROR [openinference.instrumentation.langchain._tracer] Failed to get attribute.\n",
      "Traceback (most recent call last):\n",
      "  File \"/Users/jdanner/Documents/image2transactions/venv/lib/python3.12/site-packages/openinference/instrumentation/langchain/_tracer.py\", line 275, in wrapper\n",
      "    yield from wrapped(*args, **kwargs)\n",
      "  File \"/Users/jdanner/Documents/image2transactions/venv/lib/python3.12/site-packages/openinference/instrumentation/langchain/_tracer.py\", line 441, in _parse_message_data\n",
      "    assert isinstance(content, str), f\"expected str, found {type(content)}\"\n",
      "           ^^^^^^^^^^^^^^^^^^^^^^^^\n",
      "AssertionError: expected str, found <class 'list'>\n",
      "ERROR [openinference.instrumentation.langchain._tracer] Failed to get attribute.\n",
      "Traceback (most recent call last):\n",
      "  File \"/Users/jdanner/Documents/image2transactions/venv/lib/python3.12/site-packages/openinference/instrumentation/langchain/_tracer.py\", line 275, in wrapper\n",
      "    yield from wrapped(*args, **kwargs)\n",
      "  File \"/Users/jdanner/Documents/image2transactions/venv/lib/python3.12/site-packages/openinference/instrumentation/langchain/_tracer.py\", line 441, in _parse_message_data\n",
      "    assert isinstance(content, str), f\"expected str, found {type(content)}\"\n",
      "           ^^^^^^^^^^^^^^^^^^^^^^^^\n",
      "AssertionError: expected str, found <class 'list'>\n"
     ]
    },
    {
     "name": "stdout",
     "output_type": "stream",
     "text": [
      "| UNIVERSITY LIBRAR | 38.86 | 23 | Assets:Discover:Main:UNKNOWN | Assets:Discover:Spent |\n",
      "| UNIVERSITY LIBRAR | 38.86 | 23 | Liabilities:CreditCard | Expenses:Assets:Discover:Main:UNKNOWN |\n",
      "| DES MOINES BEER G | 34.16 | 23 | Assets:Discover:Main:Wants:Other | Assets:Discover:Spent |\n",
      "| DES MOINES BEER G | 34.16 | 23 | Liabilities:CreditCard | Expenses:Assets:Discover:Main:Wants:Other |\n",
      "| AMAZON | 13.9 | 24 | Assets:Discover:Main:Wants:Other | Assets:Discover:Spent |\n",
      "| AMAZON | 13.9 | 24 | Liabilities:CreditCard | Expenses:Assets:Discover:Main:Wants:Other |\n",
      "| DOMINO'S | 20.8 | 25 | Assets:Discover:Main:Wants:Other | Assets:Discover:Spent |\n",
      "| DOMINO'S | 20.8 | 25 | Liabilities:CreditCard | Expenses:Assets:Discover:Main:Wants:Other |\n",
      "| PANCHEROS | 11.56 | 26 | Assets:Discover:Main:Wants:Other | Assets:Discover:Spent |\n",
      "| PANCHEROS | 11.56 | 26 | Liabilities:CreditCard | Expenses:Assets:Discover:Main:Wants:Other |\n",
      "| WALMART | 33.07 | 27 | Assets:Discover:Main:Needs:Groceries | Assets:Discover:Spent |\n",
      "| WALMART | 33.07 | 27 | Liabilities:CreditCard | Expenses:Assets:Discover:Main:Needs:Groceries |\n",
      "| MCDONALD'S | 6.61 | 27 | Assets:Discover:Main:Wants:Other | Assets:Discover:Spent |\n",
      "| MCDONALD'S | 6.61 | 27 | Liabilities:CreditCard | Expenses:Assets:Discover:Main:Wants:Other |\n",
      "| HY-VEE | 24.11 | 28 | Assets:Discover:Main:Needs:Groceries | Assets:Discover:Spent |\n",
      "| HY-VEE | 24.11 | 28 | Liabilities:CreditCard | Expenses:Assets:Discover:Main:Needs:Groceries |\n",
      "| OBSIDIAN.MD | 10.0 | 29 | Assets:Discover:Main:Wants:Other | Assets:Discover:Spent |\n",
      "| OBSIDIAN.MD | 10.0 | 29 | Liabilities:CreditCard | Expenses:Assets:Discover:Main:Wants:Other |\n",
      "| GOOGLE | 24.84 | 1 | Assets:Discover:Main:Wants:Monthly | Assets:Discover:Spent |\n",
      "| GOOGLE | 24.84 | 1 | Liabilities:CreditCard | Expenses:Assets:Discover:Main:Wants:Monthly |\n",
      "| TASTY TACOS | 13.96 | 1 | Assets:Discover:Main:Wants:Other | Assets:Discover:Spent |\n",
      "| TASTY TACOS | 13.96 | 1 | Liabilities:CreditCard | Expenses:Assets:Discover:Main:Wants:Other |\n",
      "| CASEY'S | 40.48 | 1 | Assets:Discover:Main:Needs:Gas | Assets:Discover:Spent |\n",
      "| CASEY'S | 40.48 | 1 | Liabilities:CreditCard | Expenses:Assets:Discover:Main:Needs:Gas |\n",
      "| MCDONALD'S | 2.77 | 2 | Assets:Discover:Main:Wants:Other | Assets:Discover:Spent |\n",
      "| MCDONALD'S | 2.77 | 2 | Liabilities:CreditCard | Expenses:Assets:Discover:Main:Wants:Other |\n",
      "| ROLLING WOK CAFE | 41.93 | 3 | Assets:Discover:Main:Wants:Other | Assets:Discover:Spent |\n",
      "| ROLLING WOK CAFE | 41.93 | 3 | Liabilities:CreditCard | Expenses:Assets:Discover:Main:Wants:Other |\n",
      "| AMAZON | 6.6 | 3 | Assets:Discover:Main:Wants:Other | Assets:Discover:Spent |\n",
      "| AMAZON | 6.6 | 3 | Liabilities:CreditCard | Expenses:Assets:Discover:Main:Wants:Other |\n",
      "| TARGET | 17.31 | 4 | Assets:Discover:Main:Wants:Other | Assets:Discover:Spent |\n",
      "| TARGET | 17.31 | 4 | Liabilities:CreditCard | Expenses:Assets:Discover:Main:Wants:Other |\n",
      "| OPENAI | 20.0 | 4 | Assets:Discover:Main:UNKNOWN | Assets:Discover:Spent |\n",
      "| OPENAI | 20.0 | 4 | Liabilities:CreditCard | Expenses:Assets:Discover:Main:UNKNOWN |\n",
      "| KOHL'S | 47.04 | 4 | Assets:Discover:Main:Wants:Other | Assets:Discover:Spent |\n",
      "| KOHL'S | 47.04 | 4 | Liabilities:CreditCard | Expenses:Assets:Discover:Main:Wants:Other |\n",
      "| AMAZON | 16.04 | 4 | Assets:Discover:Main:Needs:Monthly | Assets:Discover:Spent |\n",
      "| AMAZON | 16.04 | 4 | Liabilities:CreditCard | Expenses:Assets:Discover:Main:Needs:Monthly |\n",
      "| PHO 515 | 21.93 | 6 | Assets:Discover:Main:UNKNOWN | Assets:Discover:Spent |\n",
      "| PHO 515 | 21.93 | 6 | Liabilities:CreditCard | Expenses:Assets:Discover:Main:UNKNOWN |\n",
      "| HIGHLIFE-BAITSHOP | 8.05 | 6 | Assets:Discover:Main:Wants:Other | Assets:Discover:Spent |\n",
      "| HIGHLIFE-BAITSHOP | 8.05 | 6 | Liabilities:CreditCard | Expenses:Assets:Discover:Main:Wants:Other |\n",
      "| PANCHEROS | 13.0 | 7 | Assets:Discover:Main:Wants:Other | Assets:Discover:Spent |\n",
      "| PANCHEROS | 13.0 | 7 | Liabilities:CreditCard | Expenses:Assets:Discover:Main:Wants:Other |\n",
      "| PANCHEROS | 13.0 | 8 | Assets:Discover:Main:Wants:Other | Assets:Discover:Spent |\n",
      "| PANCHEROS | 13.0 | 8 | Liabilities:CreditCard | Expenses:Assets:Discover:Main:Wants:Other |\n"
     ]
    }
   ],
   "source": [
    "path_prefix = '07-08'\n",
    "image_paths = [f'data/images/{path_prefix}/{i}.png' for i in range(1, 5)]\n",
    "\n",
    "markdown = [run(image) for image in image_paths]\n",
    "print(*markdown, sep='\\n')"
   ]
  },
  {
   "cell_type": "code",
   "execution_count": 8,
   "metadata": {},
   "outputs": [
    {
     "name": "stdout",
     "output_type": "stream",
     "text": [
      "💾 Trace dataset saved to under ID: 28887103-d0dc-4be3-a9f0-85b85b7ad36b\n",
      "📂 Trace dataset path: data/traces/trace_dataset-28887103-d0dc-4be3-a9f0-85b85b7ad36b.parquet\n"
     ]
    },
    {
     "name": "stderr",
     "output_type": "stream",
     "text": [
      "/Users/jdanner/Documents/image2transactions/venv/lib/python3.12/site-packages/phoenix/trace/dsl/query.py:746: FutureWarning: Series.__getitem__ treating keys as positions is deprecated. In a future version, integer keys will always be treated as labels (consistent with DataFrame behavior). To access a value by position, use `ser.iloc[pos]`\n",
      "  df_attributes = pd.DataFrame.from_records(\n"
     ]
    },
    {
     "data": {
      "text/plain": [
       "UUID('28887103-d0dc-4be3-a9f0-85b85b7ad36b')"
      ]
     },
     "execution_count": 8,
     "metadata": {},
     "output_type": "execute_result"
    }
   ],
   "source": [
    "px.Client().get_trace_dataset().save('data/traces')"
   ]
  },
  {
   "cell_type": "code",
   "execution_count": 9,
   "metadata": {},
   "outputs": [
    {
     "name": "stdout",
     "output_type": "stream",
     "text": [
      "\u001b[1A\u001b[1B\u001b[0G\u001b[?25l[+] Running 0/0\n",
      " \u001b[33m⠋\u001b[0m Container opensearch  Stopping                                          \u001b[34m0.1s \u001b[0m\n",
      "\u001b[?25h\u001b[1A\u001b[1A\u001b[0G\u001b[?25l[+] Running 0/1\n",
      " \u001b[33m⠙\u001b[0m Container opensearch  Stopping                                          \u001b[34m0.2s \u001b[0m\n",
      "\u001b[?25h\u001b[1A\u001b[1A\u001b[0G\u001b[?25l[+] Running 0/1\n",
      " \u001b[33m⠹\u001b[0m Container opensearch  Stopping                                          \u001b[34m0.3s \u001b[0m\n",
      "\u001b[?25h\u001b[1A\u001b[1A\u001b[0G\u001b[?25l\u001b[34m[+] Running 1/1\u001b[0m\n",
      " \u001b[32m✔\u001b[0m Container opensearch                \u001b[32mRemoved\u001b[0m                             \u001b[34m0.3s \u001b[0m\n",
      " \u001b[33m⠋\u001b[0m Network image2transactions_default  Removing                            \u001b[34m0.1s \u001b[0m\n",
      "\u001b[?25h\u001b[1A\u001b[1A\u001b[1A\u001b[0G\u001b[?25l\u001b[34m[+] Running 2/2\u001b[0m\n",
      " \u001b[32m✔\u001b[0m Container opensearch                \u001b[32mRemoved\u001b[0m                             \u001b[34m0.3s \u001b[0m\n",
      " \u001b[32m✔\u001b[0m Network image2transactions_default  \u001b[32mRemoved\u001b[0m                             \u001b[34m0.1s \u001b[0m\n",
      "\u001b[?25h"
     ]
    }
   ],
   "source": [
    "px.close_app()\n",
    "!docker-compose down"
   ]
  }
 ],
 "metadata": {
  "kernelspec": {
   "display_name": "venv",
   "language": "python",
   "name": "python3"
  },
  "language_info": {
   "codemirror_mode": {
    "name": "ipython",
    "version": 3
   },
   "file_extension": ".py",
   "mimetype": "text/x-python",
   "name": "python",
   "nbconvert_exporter": "python",
   "pygments_lexer": "ipython3",
   "version": "3.12.4"
  }
 },
 "nbformat": 4,
 "nbformat_minor": 2
}
