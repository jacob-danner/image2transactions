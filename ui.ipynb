{
 "cells": [
  {
   "cell_type": "code",
   "execution_count": 4,
   "metadata": {},
   "outputs": [
    {
     "name": "stderr",
     "output_type": "stream",
     "text": [
      "WARNI [opentelemetry.instrumentation.instrumentor] Attempting to instrument while already instrumented\n"
     ]
    },
    {
     "name": "stderr",
     "output_type": "stream",
     "text": [
      "I0000 00:00:1721676747.972037 11654592 work_stealing_thread_pool.cc:320] WorkStealingThreadPoolImpl::PrepareFork\n",
      "I0000 00:00:1721676747.972191 11654592 fork_posix.cc:77] Other threads are currently calling into gRPC, skipping fork() handlers\n"
     ]
    },
    {
     "name": "stdout",
     "output_type": "stream",
     "text": [
      "\u001b[1A\u001b[1B\u001b[0G\u001b[?25l[+] Running 0/0\n",
      " \u001b[33m⠋\u001b[0m Container opensearch  Starting                                          \u001b[34m0.1s \u001b[0m\n",
      "\u001b[?25h\u001b[1A\u001b[1A\u001b[0G\u001b[?25l[+] Running 0/1\n",
      " \u001b[33m⠙\u001b[0m Container opensearch  Starting                                          \u001b[34m0.2s \u001b[0m\n",
      "\u001b[?25h\u001b[1A\u001b[1A\u001b[0G\u001b[?25l\u001b[34m[+] Running 1/1\u001b[0m\n",
      " \u001b[32m✔\u001b[0m Container opensearch  \u001b[32mStarted\u001b[0m                                           \u001b[34m0.2s \u001b[0m\n",
      "\u001b[?25h"
     ]
    }
   ],
   "source": [
    "from src.main import run\n",
    "\n",
    "import phoenix as px\n",
    "from phoenix.trace.langchain import LangChainInstrumentor\n",
    "\n",
    "import json\n",
    "from pydantic import BaseModel\n",
    "import openinference.instrumentation.langchain._tracer as tracer_module\n",
    "\n",
    "# original_parse_message_data = tracer_module._parse_message_data\n",
    "\n",
    "# def custom_parse_message_data(content):\n",
    "#     if isinstance(content, BaseModel):\n",
    "#         content = content.model_dump_json()\n",
    "#     elif isinstance(content, list):\n",
    "#         content = \", \".join(map(str, content))\n",
    "#     elif isinstance(content, dict):\n",
    "#         content = json.dumps(content)\n",
    "\n",
    "#     assert isinstance(content, str), f\"expected str, found {type(content)}\"\n",
    "#     return original_parse_message_data(content)\n",
    "#     if isinstance(content, list):\n",
    "#         content = \", \".join(map(str, content))\n",
    "#     else:\n",
    "#         original_parse_message_data(content)\n",
    "#     assert isinstance(content, str), f\"expected str, found {type(content)}\"\n",
    "#     return content\n",
    "\n",
    "# # Monkey-patch the original method\n",
    "# tracer_module._parse_message_data = custom_parse_message_data\n",
    "LangChainInstrumentor().instrument() # this should only happen once\n",
    "\n",
    "!docker-compose up -d"
   ]
  },
  {
   "cell_type": "code",
   "execution_count": 5,
   "metadata": {},
   "outputs": [
    {
     "name": "stderr",
     "output_type": "stream",
     "text": [
      "WARNI [phoenix.session.session] Existing running Phoenix instance detected! Shutting it down and starting a new instance...\n"
     ]
    },
    {
     "name": "stdout",
     "output_type": "stream",
     "text": [
      "🌍 To view the Phoenix app in your browser, visit http://localhost:6006/\n",
      "📖 For more information on how to use Phoenix, check out https://docs.arize.com/phoenix\n"
     ]
    }
   ],
   "source": [
    "# saved_trace = px.TraceDataset.load('d35f0403-3aeb-44d7-ad02-7135c2bb47c0', directory=\"phoenix-experiment\")\n",
    "session = px.launch_app()"
   ]
  },
  {
   "cell_type": "code",
   "execution_count": 6,
   "metadata": {},
   "outputs": [
    {
     "name": "stderr",
     "output_type": "stream",
     "text": [
      "ERROR [openinference.instrumentation.langchain._tracer] Failed to get attribute.\n",
      "Traceback (most recent call last):\n",
      "  File \"/Users/jdanner/Documents/side_projects/image2transactions/venv/lib/python3.12/site-packages/openinference/instrumentation/langchain/_tracer.py\", line 277, in wrapper\n",
      "    yield from wrapped(*args, **kwargs)\n",
      "  File \"/Users/jdanner/Documents/side_projects/image2transactions/venv/lib/python3.12/site-packages/openinference/instrumentation/langchain/_tracer.py\", line 443, in _parse_message_data\n",
      "    assert isinstance(content, str), f\"expected str, found {type(content)}\"\n",
      "           ^^^^^^^^^^^^^^^^^^^^^^^^\n",
      "AssertionError: expected str, found <class 'list'>\n"
     ]
    },
    {
     "name": "stdout",
     "output_type": "stream",
     "text": [
      "| UNIVERSITY LIBRAR | 38.86 | 23 | Assets:Discover:Main:Wants:Other | Assets:Discover:Spent |\n",
      "| UNIVERSITY LIBRAR | 38.86 | 23 | Liabilities:CreditCard | Expenses:Assets:Discover:Main:Wants:Other |\n",
      "| DES MOINES BEER G | 34.16 | 23 | Assets:Discover:Main:Wants:Other | Assets:Discover:Spent |\n",
      "| DES MOINES BEER G | 34.16 | 23 | Liabilities:CreditCard | Expenses:Assets:Discover:Main:Wants:Other |\n"
     ]
    }
   ],
   "source": [
    "path_prefix = '07-08'\n",
    "image_paths = [f'data/images/{path_prefix}/{i}.png' for i in range(1, 2)]\n",
    "\n",
    "markdown = [run(image) for image in image_paths]\n",
    "print(*markdown, sep='\\n')"
   ]
  },
  {
   "cell_type": "code",
   "execution_count": 7,
   "metadata": {},
   "outputs": [
    {
     "name": "stdout",
     "output_type": "stream",
     "text": [
      "💾 Trace dataset saved to under ID: 6e706289-dc4e-4e86-8fab-63a1961ce021\n",
      "📂 Trace dataset path: data/traces/trace_dataset-6e706289-dc4e-4e86-8fab-63a1961ce021.parquet\n"
     ]
    },
    {
     "name": "stderr",
     "output_type": "stream",
     "text": [
      "/Users/jdanner/Documents/side_projects/image2transactions/venv/lib/python3.12/site-packages/phoenix/trace/dsl/query.py:746: FutureWarning: Series.__getitem__ treating keys as positions is deprecated. In a future version, integer keys will always be treated as labels (consistent with DataFrame behavior). To access a value by position, use `ser.iloc[pos]`\n",
      "  df_attributes = pd.DataFrame.from_records(\n"
     ]
    },
    {
     "data": {
      "text/plain": [
       "UUID('6e706289-dc4e-4e86-8fab-63a1961ce021')"
      ]
     },
     "execution_count": 7,
     "metadata": {},
     "output_type": "execute_result"
    }
   ],
   "source": [
    "px.Client().get_trace_dataset().save('data/traces')"
   ]
  },
  {
   "cell_type": "code",
   "execution_count": 8,
   "metadata": {},
   "outputs": [
    {
     "name": "stdout",
     "output_type": "stream",
     "text": [
      "\u001b[1A\u001b[1B\u001b[0G\u001b[?25l[+] Running 0/0\n",
      " \u001b[33m⠋\u001b[0m Container opensearch  Stopping                                          \u001b[34m0.1s \u001b[0m\n",
      "\u001b[?25h\u001b[1A\u001b[1A\u001b[0G\u001b[?25l[+] Running 0/1\n",
      " \u001b[33m⠙\u001b[0m Container opensearch  Stopping                                          \u001b[34m0.2s \u001b[0m\n",
      "\u001b[?25h\u001b[1A\u001b[1A\u001b[0G\u001b[?25l\u001b[34m[+] Running 1/1\u001b[0m\n",
      " \u001b[32m✔\u001b[0m Container opensearch                \u001b[32mRemoved\u001b[0m                             \u001b[34m0.3s \u001b[0m\n",
      " \u001b[33m⠋\u001b[0m Network image2transactions_default  Removing                            \u001b[34m0.0s \u001b[0m\n",
      "\u001b[?25h\u001b[1A\u001b[1A\u001b[1A\u001b[0G\u001b[?25l\u001b[34m[+] Running 2/2\u001b[0m\n",
      " \u001b[32m✔\u001b[0m Container opensearch                \u001b[32mRemoved\u001b[0m                             \u001b[34m0.3s \u001b[0m\n",
      " \u001b[32m✔\u001b[0m Network image2transactions_default  \u001b[32mRemoved\u001b[0m                             \u001b[34m0.1s \u001b[0m\n",
      "\u001b[?25h"
     ]
    }
   ],
   "source": [
    "px.close_app()\n",
    "!docker-compose down"
   ]
  }
 ],
 "metadata": {
  "kernelspec": {
   "display_name": "venv",
   "language": "python",
   "name": "python3"
  },
  "language_info": {
   "codemirror_mode": {
    "name": "ipython",
    "version": 3
   },
   "file_extension": ".py",
   "mimetype": "text/x-python",
   "name": "python",
   "nbconvert_exporter": "python",
   "pygments_lexer": "ipython3",
   "version": "3.12.4"
  }
 },
 "nbformat": 4,
 "nbformat_minor": 2
}
